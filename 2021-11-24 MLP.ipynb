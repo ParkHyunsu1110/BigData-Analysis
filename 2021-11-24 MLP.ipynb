{
 "cells": [
  {
   "cell_type": "code",
   "execution_count": 1,
   "id": "c05be39a",
   "metadata": {},
   "outputs": [],
   "source": [
    "import tensorflow as tf"
   ]
  },
  {
   "cell_type": "code",
   "execution_count": 2,
   "id": "669474e2",
   "metadata": {},
   "outputs": [],
   "source": [
    "from sklearn import datasets"
   ]
  },
  {
   "cell_type": "code",
   "execution_count": 4,
   "id": "be55c689",
   "metadata": {},
   "outputs": [],
   "source": [
    "iris = datasets.load_iris()"
   ]
  },
  {
   "cell_type": "code",
   "execution_count": 5,
   "id": "700ff18b",
   "metadata": {},
   "outputs": [
    {
     "data": {
      "text/plain": [
       "sklearn.utils.Bunch"
      ]
     },
     "execution_count": 5,
     "metadata": {},
     "output_type": "execute_result"
    }
   ],
   "source": [
    "type(iris)"
   ]
  },
  {
   "cell_type": "code",
   "execution_count": 6,
   "id": "6aca78e0",
   "metadata": {},
   "outputs": [],
   "source": [
    "X = iris.data"
   ]
  },
  {
   "cell_type": "code",
   "execution_count": 8,
   "id": "dca7b4e1",
   "metadata": {},
   "outputs": [],
   "source": [
    "y = iris.target"
   ]
  },
  {
   "cell_type": "code",
   "execution_count": 11,
   "id": "889ceefd",
   "metadata": {},
   "outputs": [],
   "source": [
    "from sklearn.model_selection import train_test_split"
   ]
  },
  {
   "cell_type": "code",
   "execution_count": 21,
   "id": "50ecee76",
   "metadata": {},
   "outputs": [],
   "source": [
    "X_train, X_test, y_train, y_test = train_test_split(X, y, train_size=100, random_state=1, stratify=y)"
   ]
  },
  {
   "cell_type": "code",
   "execution_count": 22,
   "id": "c350a12a",
   "metadata": {},
   "outputs": [],
   "source": [
    "model = tf.keras.Sequential()"
   ]
  },
  {
   "cell_type": "code",
   "execution_count": 23,
   "id": "85f88579",
   "metadata": {},
   "outputs": [],
   "source": [
    "#은닉층 추가 : 은닉 유닛의 개수, 입력 모양, 활성함수 sigmoid -> 로지스틱\n",
    "model.add(tf.keras.layers.Dense(16, input_shape=(4,), activation='sigmoid'))"
   ]
  },
  {
   "cell_type": "code",
   "execution_count": 24,
   "id": "1f9f96b0",
   "metadata": {},
   "outputs": [],
   "source": [
    "#출력층 추가 : 출력 유닛의 개수, 활성함수\n",
    "model.add(tf.keras.layers.Dense(3, activation='softmax'))"
   ]
  },
  {
   "cell_type": "code",
   "execution_count": 25,
   "id": "ec789bff",
   "metadata": {},
   "outputs": [
    {
     "name": "stdout",
     "output_type": "stream",
     "text": [
      "Model: \"sequential_1\"\n",
      "_________________________________________________________________\n",
      " Layer (type)                Output Shape              Param #   \n",
      "=================================================================\n",
      " dense_3 (Dense)             (None, 16)                80        \n",
      "                                                                 \n",
      " dense_4 (Dense)             (None, 3)                 51        \n",
      "                                                                 \n",
      "=================================================================\n",
      "Total params: 131\n",
      "Trainable params: 131\n",
      "Non-trainable params: 0\n",
      "_________________________________________________________________\n"
     ]
    }
   ],
   "source": [
    "model.summary()"
   ]
  },
  {
   "cell_type": "code",
   "execution_count": 26,
   "id": "5f336af0",
   "metadata": {},
   "outputs": [
    {
     "data": {
      "text/plain": [
       "80"
      ]
     },
     "execution_count": 26,
     "metadata": {},
     "output_type": "execute_result"
    }
   ],
   "source": [
    "(4+1)*16"
   ]
  },
  {
   "cell_type": "code",
   "execution_count": 27,
   "id": "2c78e7cf",
   "metadata": {},
   "outputs": [
    {
     "data": {
      "text/plain": [
       "51"
      ]
     },
     "execution_count": 27,
     "metadata": {},
     "output_type": "execute_result"
    }
   ],
   "source": [
    "(16+1)*3"
   ]
  },
  {
   "cell_type": "code",
   "execution_count": 29,
   "id": "41ec3c33",
   "metadata": {},
   "outputs": [],
   "source": [
    "# 모델 컴파일 : 비용(loss), 옵티마이저(optimizer:최적화 알고리즘), 지표(matric)\n",
    "model.compile(loss='sparse_categorical_crossentropy', optimizer='sgd', metrics=['accuracy'])"
   ]
  },
  {
   "cell_type": "code",
   "execution_count": 30,
   "id": "4137ff03",
   "metadata": {},
   "outputs": [
    {
     "name": "stdout",
     "output_type": "stream",
     "text": [
      "Epoch 1/20\n",
      "50/50 [==============================] - 0s 1ms/step - loss: 1.0403 - accuracy: 0.4000\n",
      "Epoch 2/20\n",
      "50/50 [==============================] - 0s 1ms/step - loss: 0.9707 - accuracy: 0.7600\n",
      "Epoch 3/20\n",
      "50/50 [==============================] - 0s 1ms/step - loss: 0.9416 - accuracy: 0.7200\n",
      "Epoch 4/20\n",
      "50/50 [==============================] - 0s 1ms/step - loss: 0.9136 - accuracy: 0.7100\n",
      "Epoch 5/20\n",
      "50/50 [==============================] - 0s 1ms/step - loss: 0.8848 - accuracy: 0.7100\n",
      "Epoch 6/20\n",
      "50/50 [==============================] - 0s 1ms/step - loss: 0.8582 - accuracy: 0.8300\n",
      "Epoch 7/20\n",
      "50/50 [==============================] - 0s 1ms/step - loss: 0.8338 - accuracy: 0.7400\n",
      "Epoch 8/20\n",
      "50/50 [==============================] - 0s 1ms/step - loss: 0.8054 - accuracy: 0.7800\n",
      "Epoch 9/20\n",
      "50/50 [==============================] - 0s 991us/step - loss: 0.7805 - accuracy: 0.7400\n",
      "Epoch 10/20\n",
      "50/50 [==============================] - 0s 1ms/step - loss: 0.7561 - accuracy: 0.7900\n",
      "Epoch 11/20\n",
      "50/50 [==============================] - 0s 1ms/step - loss: 0.7323 - accuracy: 0.7400\n",
      "Epoch 12/20\n",
      "50/50 [==============================] - 0s 2ms/step - loss: 0.7170 - accuracy: 0.7300\n",
      "Epoch 13/20\n",
      "50/50 [==============================] - 0s 1ms/step - loss: 0.6931 - accuracy: 0.8000\n",
      "Epoch 14/20\n",
      "50/50 [==============================] - 0s 2ms/step - loss: 0.6760 - accuracy: 0.8000\n",
      "Epoch 15/20\n",
      "50/50 [==============================] - 0s 1ms/step - loss: 0.6581 - accuracy: 0.7400\n",
      "Epoch 16/20\n",
      "50/50 [==============================] - 0s 2ms/step - loss: 0.6420 - accuracy: 0.8100\n",
      "Epoch 17/20\n",
      "50/50 [==============================] - 0s 1ms/step - loss: 0.6269 - accuracy: 0.8600\n",
      "Epoch 18/20\n",
      "50/50 [==============================] - 0s 1ms/step - loss: 0.6120 - accuracy: 0.7800\n",
      "Epoch 19/20\n",
      "50/50 [==============================] - 0s 1ms/step - loss: 0.6041 - accuracy: 0.7800\n",
      "Epoch 20/20\n",
      "50/50 [==============================] - 0s 1ms/step - loss: 0.5903 - accuracy: 0.8100\n"
     ]
    }
   ],
   "source": [
    "history = model.fit(X_train, y_train, epochs=20, batch_size=2)"
   ]
  },
  {
   "cell_type": "code",
   "execution_count": 31,
   "id": "80addea4",
   "metadata": {},
   "outputs": [
    {
     "name": "stdout",
     "output_type": "stream",
     "text": [
      "2/2 [==============================] - 0s 6ms/step - loss: 0.5826 - accuracy: 0.8200\n"
     ]
    },
    {
     "data": {
      "text/plain": [
       "[0.5826215147972107, 0.8199999928474426]"
      ]
     },
     "execution_count": 31,
     "metadata": {},
     "output_type": "execute_result"
    }
   ],
   "source": [
    "model.evaluate(X_test, y_test)"
   ]
  },
  {
   "cell_type": "code",
   "execution_count": 32,
   "id": "3c0adb55",
   "metadata": {},
   "outputs": [
    {
     "name": "stdout",
     "output_type": "stream",
     "text": [
      "Downloading data from https://storage.googleapis.com/tensorflow/tf-keras-datasets/train-labels-idx1-ubyte.gz\n",
      "32768/29515 [=================================] - 0s 0us/step\n",
      "40960/29515 [=========================================] - 0s 0us/step\n",
      "Downloading data from https://storage.googleapis.com/tensorflow/tf-keras-datasets/train-images-idx3-ubyte.gz\n",
      "26427392/26421880 [==============================] - 6s 0us/step\n",
      "26435584/26421880 [==============================] - 6s 0us/step\n",
      "Downloading data from https://storage.googleapis.com/tensorflow/tf-keras-datasets/t10k-labels-idx1-ubyte.gz\n",
      "16384/5148 [===============================================================================================] - 0s 0s/step\n",
      "Downloading data from https://storage.googleapis.com/tensorflow/tf-keras-datasets/t10k-images-idx3-ubyte.gz\n",
      "4423680/4422102 [==============================] - 1s 0us/step\n",
      "4431872/4422102 [==============================] - 1s 0us/step\n"
     ]
    }
   ],
   "source": [
    "(X_train, y_train), (X_test, y_test) = tf.keras.datasets.fashion_mnist.load_data()"
   ]
  },
  {
   "cell_type": "code",
   "execution_count": 33,
   "id": "1952d2fb",
   "metadata": {},
   "outputs": [
    {
     "data": {
      "text/plain": [
       "(60000, 28, 28)"
      ]
     },
     "execution_count": 33,
     "metadata": {},
     "output_type": "execute_result"
    }
   ],
   "source": [
    "X_train.shape"
   ]
  },
  {
   "cell_type": "code",
   "execution_count": 34,
   "id": "2d0956c4",
   "metadata": {},
   "outputs": [],
   "source": [
    "import matplotlib.pyplot as plt"
   ]
  },
  {
   "cell_type": "code",
   "execution_count": 36,
   "id": "e525de01",
   "metadata": {},
   "outputs": [
    {
     "data": {
      "text/plain": [
       "<matplotlib.image.AxesImage at 0x28777581e20>"
      ]
     },
     "execution_count": 36,
     "metadata": {},
     "output_type": "execute_result"
    },
    {
     "data": {
      "image/png": "[encoded data removed]",
      "text/plain": [
       "<Figure size 432x288 with 1 Axes>"
      ]
     },
     "metadata": {
      "needs_background": "light"
     },
     "output_type": "display_data"
    }
   ],
   "source": [
    "plt.imshow(X_train[0, :, :], cmap='Greys')"
   ]
  },
  {
   "cell_type": "code",
   "execution_count": 37,
   "id": "ef04adcc",
   "metadata": {},
   "outputs": [
    {
     "data": {
      "text/plain": [
       "<matplotlib.image.AxesImage at 0x287775c1eb0>"
      ]
     },
     "execution_count": 37,
     "metadata": {},
     "output_type": "execute_result"
    },
    {
     "data": {
      "image/png": "[encoded data removed]",
      "text/plain": [
       "<Figure size 432x288 with 1 Axes>"
      ]
     },
     "metadata": {
      "needs_background": "light"
     },
     "output_type": "display_data"
    }
   ],
   "source": [
    "plt.imshow(X_train[5, :, :], cmap='Greys')"
   ]
  },
  {
   "cell_type": "code",
   "execution_count": 38,
   "id": "b675f33b",
   "metadata": {},
   "outputs": [
    {
     "data": {
      "text/plain": [
       "9"
      ]
     },
     "execution_count": 38,
     "metadata": {},
     "output_type": "execute_result"
    }
   ],
   "source": [
    "y_train[0]"
   ]
  },
  {
   "cell_type": "code",
   "execution_count": 39,
   "id": "8228ba05",
   "metadata": {},
   "outputs": [
    {
     "data": {
      "text/plain": [
       "2"
      ]
     },
     "execution_count": 39,
     "metadata": {},
     "output_type": "execute_result"
    }
   ],
   "source": [
    "y_train[5]"
   ]
  },
  {
   "cell_type": "code",
   "execution_count": 40,
   "id": "b73c58e6",
   "metadata": {},
   "outputs": [],
   "source": [
    "X_train = X_train / 255.0"
   ]
  },
  {
   "cell_type": "code",
   "execution_count": 41,
   "id": "820aa744",
   "metadata": {},
   "outputs": [],
   "source": [
    "X_test = X_test / 255.0"
   ]
  },
  {
   "cell_type": "code",
   "execution_count": null,
   "id": "6cdaa909",
   "metadata": {},
   "outputs": [],
   "source": []
  }
 ],
 "metadata": {
  "kernelspec": {
   "display_name": "Python 3",
   "language": "python",
   "name": "python3"
  },
  "language_info": {
   "codemirror_mode": {
    "name": "ipython",
    "version": 3
   },
   "file_extension": ".py",
   "mimetype": "text/x-python",
   "name": "python",
   "nbconvert_exporter": "python",
   "pygments_lexer": "ipython3",
   "version": "3.8.8"
  }
 },
 "nbformat": 4,
 "nbformat_minor": 5
}

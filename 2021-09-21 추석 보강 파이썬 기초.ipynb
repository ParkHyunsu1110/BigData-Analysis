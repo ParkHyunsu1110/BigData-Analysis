{
 "cells": [
  {
   "cell_type": "markdown",
   "id": "84b4be40",
   "metadata": {},
   "source": [
    "# 파이썬 키워드"
   ]
  },
  {
   "cell_type": "code",
   "execution_count": 1,
   "id": "06c76600",
   "metadata": {},
   "outputs": [],
   "source": [
    "import keyword"
   ]
  },
  {
   "cell_type": "code",
   "execution_count": 3,
   "id": "aac80b9f",
   "metadata": {},
   "outputs": [
    {
     "data": {
      "text/plain": [
       "35"
      ]
     },
     "execution_count": 3,
     "metadata": {},
     "output_type": "execute_result"
    }
   ],
   "source": [
    "len(keyword.kwlist)"
   ]
  },
  {
   "cell_type": "code",
   "execution_count": 7,
   "id": "f8b802ec",
   "metadata": {},
   "outputs": [
    {
     "data": {
      "text/plain": [
       "True"
      ]
     },
     "execution_count": 7,
     "metadata": {},
     "output_type": "execute_result"
    }
   ],
   "source": [
    "keyword.iskeyword('True')  #True, False는 대문자"
   ]
  },
  {
   "cell_type": "markdown",
   "id": "91e9b0a7",
   "metadata": {},
   "source": [
    "# 조건문"
   ]
  },
  {
   "cell_type": "code",
   "execution_count": 12,
   "id": "c74ab637",
   "metadata": {},
   "outputs": [
    {
     "name": "stdout",
     "output_type": "stream",
     "text": [
      "길이 =  70.0 너비 =  54.5\n"
     ]
    }
   ],
   "source": [
    "size = 'M'\n",
    "if size == 'S':\n",
    "    #length = 68.0\n",
    "    #width = 52.0\n",
    "    length, width = 68.0, 52.0\n",
    "elif size == 'M':\n",
    "    length, width = 70.0, 54.5\n",
    "else:\n",
    "    length, width = 72.0, 57.0\n",
    "\n",
    "print('길이 = ', length, '너비 = ', width)"
   ]
  },
  {
   "cell_type": "markdown",
   "id": "46eaec6b",
   "metadata": {},
   "source": [
    "# Magic Commands"
   ]
  },
  {
   "cell_type": "markdown",
   "id": "8dda446e",
   "metadata": {},
   "source": [
    "## Line Magics"
   ]
  },
  {
   "cell_type": "code",
   "execution_count": 13,
   "id": "90611bff",
   "metadata": {},
   "outputs": [
    {
     "name": "stdout",
     "output_type": "stream",
     "text": [
      "Variable   Type      Data/Info\n",
      "------------------------------\n",
      "keyword    module    <module 'keyword' from 'C<...>conda3\\\\lib\\\\keyword.py'>\n",
      "length     float     70.0\n",
      "size       str       M\n",
      "width      float     54.5\n"
     ]
    }
   ],
   "source": [
    "%whos #모든 객체의 정보 보기"
   ]
  },
  {
   "cell_type": "code",
   "execution_count": 20,
   "id": "0ee8aa38",
   "metadata": {},
   "outputs": [
    {
     "name": "stdout",
     "output_type": "stream",
     "text": [
      "NameError: name 'size' is not defined\n"
     ]
    }
   ],
   "source": [
    "%xdel size    #특정 객체 삭제"
   ]
  },
  {
   "cell_type": "code",
   "execution_count": 16,
   "id": "6fbebe07",
   "metadata": {
    "scrolled": true
   },
   "outputs": [
    {
     "name": "stdout",
     "output_type": "stream",
     "text": [
      "Variable   Type      Data/Info\n",
      "------------------------------\n",
      "keyword    module    <module 'keyword' from 'C<...>conda3\\\\lib\\\\keyword.py'>\n",
      "length     float     70.0\n",
      "width      float     54.5\n"
     ]
    }
   ],
   "source": [
    "%whos"
   ]
  },
  {
   "cell_type": "code",
   "execution_count": 17,
   "id": "60015150",
   "metadata": {},
   "outputs": [
    {
     "name": "stdout",
     "output_type": "stream",
     "text": [
      "Once deleted, variables cannot be recovered. Proceed (y/[n])? y\n"
     ]
    }
   ],
   "source": [
    "%reset"
   ]
  },
  {
   "cell_type": "code",
   "execution_count": 18,
   "id": "fa6e618f",
   "metadata": {},
   "outputs": [
    {
     "name": "stdout",
     "output_type": "stream",
     "text": [
      "Interactive namespace is empty.\n"
     ]
    }
   ],
   "source": [
    "%whos"
   ]
  },
  {
   "cell_type": "markdown",
   "id": "4882714a",
   "metadata": {},
   "source": [
    "## Cell Magics"
   ]
  },
  {
   "cell_type": "code",
   "execution_count": 25,
   "id": "049420e4",
   "metadata": {},
   "outputs": [
    {
     "name": "stdout",
     "output_type": "stream",
     "text": [
      "Overwriting tsize.py\n"
     ]
    }
   ],
   "source": [
    "%%writefile tsize.py\n",
    "if __name__ == '__main__':\n",
    "    size = 'L'\n",
    "    if size == 'S':\n",
    "        #length = 68.0\n",
    "        #width = 52.0\n",
    "        length, width = 68.0, 52.0\n",
    "    elif size == 'M':\n",
    "        length, width = 70.0, 54.5\n",
    "    else:\n",
    "        length, width = 72.0, 57.0\n",
    "\n",
    "    print('길이 = ', length, '너비 = ', width)"
   ]
  },
  {
   "cell_type": "code",
   "execution_count": 26,
   "id": "b01cd3c9",
   "metadata": {},
   "outputs": [
    {
     "name": "stdout",
     "output_type": "stream",
     "text": [
      "길이 =  72.0 너비 =  57.0\n"
     ]
    }
   ],
   "source": [
    "%run tsize.py"
   ]
  },
  {
   "cell_type": "markdown",
   "id": "7bc25672",
   "metadata": {},
   "source": [
    "# 반복문"
   ]
  },
  {
   "cell_type": "code",
   "execution_count": 29,
   "id": "90fdc3ce",
   "metadata": {},
   "outputs": [
    {
     "name": "stdout",
     "output_type": "stream",
     "text": [
      "소수!\n"
     ]
    }
   ],
   "source": [
    "n = 9973\n",
    "i = 2\n",
    "while i < n:\n",
    "    if n % i == 0:\n",
    "        break\n",
    "    i += 1\n",
    "if i == n:  #2~(n-1)로 나누어 떨어지는 i가 없다.\n",
    "    print('소수!')\n",
    "else:\n",
    "    print('소수가 아님!')"
   ]
  },
  {
   "cell_type": "code",
   "execution_count": 32,
   "id": "30af0dc5",
   "metadata": {},
   "outputs": [
    {
     "name": "stdout",
     "output_type": "stream",
     "text": [
      "21\n"
     ]
    }
   ],
   "source": [
    "my_list = [4, 2, 5, 7, 3]  #리스트\n",
    "sum = 0\n",
    "for x in my_list:\n",
    "    sum += x\n",
    "print(sum)"
   ]
  },
  {
   "cell_type": "code",
   "execution_count": 38,
   "id": "9763dd09",
   "metadata": {},
   "outputs": [
    {
     "name": "stdout",
     "output_type": "stream",
     "text": [
      "1 3 5 7 9 "
     ]
    }
   ],
   "source": [
    "for x in range(1, 10, 2):\n",
    "    print(x, end = ' ')"
   ]
  },
  {
   "cell_type": "code",
   "execution_count": 42,
   "id": "17530eda",
   "metadata": {},
   "outputs": [
    {
     "name": "stdout",
     "output_type": "stream",
     "text": [
      "2 3 4 "
     ]
    }
   ],
   "source": [
    "for x in range(2, 5):\n",
    "    print(x, end = ' ')"
   ]
  },
  {
   "cell_type": "code",
   "execution_count": 43,
   "id": "9e5cfca2",
   "metadata": {},
   "outputs": [
    {
     "name": "stdout",
     "output_type": "stream",
     "text": [
      "0 1 2 3 4 "
     ]
    }
   ],
   "source": [
    "for x in range(5):\n",
    "    print(x, end = ' ')"
   ]
  },
  {
   "cell_type": "code",
   "execution_count": 44,
   "id": "11ac0ffd",
   "metadata": {},
   "outputs": [
    {
     "name": "stdout",
     "output_type": "stream",
     "text": [
      "1 0 -1 -2 -3 -4 "
     ]
    }
   ],
   "source": [
    "for x in range(1, -5, -1):\n",
    "    print(x, end = ' ')"
   ]
  },
  {
   "cell_type": "code",
   "execution_count": 1,
   "id": "164c18e7",
   "metadata": {},
   "outputs": [
    {
     "name": "stdout",
     "output_type": "stream",
     "text": [
      "Hello\n",
      "Hello\n",
      "Hello\n",
      "Hello\n",
      "Hello\n"
     ]
    }
   ],
   "source": [
    "for _ in range(5):\n",
    "    print('Hello')"
   ]
  },
  {
   "cell_type": "markdown",
   "id": "1a8b7d2d",
   "metadata": {},
   "source": [
    "# 함수"
   ]
  },
  {
   "cell_type": "code",
   "execution_count": 2,
   "id": "f99e21af",
   "metadata": {},
   "outputs": [],
   "source": [
    "def square(x):\n",
    "    return x * x"
   ]
  },
  {
   "cell_type": "code",
   "execution_count": 3,
   "id": "e157d519",
   "metadata": {},
   "outputs": [
    {
     "data": {
      "text/plain": [
       "9"
      ]
     },
     "execution_count": 3,
     "metadata": {},
     "output_type": "execute_result"
    }
   ],
   "source": [
    "square(3)"
   ]
  },
  {
   "cell_type": "code",
   "execution_count": 4,
   "id": "8856328e",
   "metadata": {},
   "outputs": [],
   "source": [
    "def abs(x):\n",
    "    if x < 0:\n",
    "        return -x\n",
    "    else:\n",
    "        return x"
   ]
  },
  {
   "cell_type": "code",
   "execution_count": 6,
   "id": "d1e716d3",
   "metadata": {},
   "outputs": [
    {
     "data": {
      "text/plain": [
       "5.6"
      ]
     },
     "execution_count": 6,
     "metadata": {},
     "output_type": "execute_result"
    }
   ],
   "source": [
    "abs(-5.6)"
   ]
  },
  {
   "cell_type": "code",
   "execution_count": 7,
   "id": "f5e94f7f",
   "metadata": {},
   "outputs": [],
   "source": [
    "def min_max(a, b):\n",
    "    if a < b:\n",
    "        return a, b\n",
    "    else:\n",
    "        return b, a"
   ]
  },
  {
   "cell_type": "code",
   "execution_count": 9,
   "id": "4367ed9a",
   "metadata": {},
   "outputs": [
    {
     "name": "stdout",
     "output_type": "stream",
     "text": [
      "min =  200 max =  300\n"
     ]
    }
   ],
   "source": [
    "min, max = min_max(300, 200)\n",
    "print('min = ', min, 'max = ', max)"
   ]
  },
  {
   "cell_type": "code",
   "execution_count": 25,
   "id": "4bea9ee6",
   "metadata": {},
   "outputs": [],
   "source": [
    "def sum_to_n(n):\n",
    "    \"\"\"\n",
    "    n까지의 자연수의 합을 반환하는 함수\n",
    "    n이 정수가 아니면 TypeError 발생\n",
    "    n이 음수이면 ValueError 발생\n",
    "    \"\"\"\n",
    "    if type(n) is not int:\n",
    "        raise TypeError('n은 정수여야 함.')\n",
    "    if n <  0:\n",
    "        raise ValueError('n은 0보다 커야 함.')\n",
    "    sum = 0\n",
    "    for i in range(n+1):\n",
    "        sum += i\n",
    "    return sum"
   ]
  },
  {
   "cell_type": "code",
   "execution_count": 15,
   "id": "c551c6e7",
   "metadata": {},
   "outputs": [
    {
     "data": {
      "text/plain": [
       "55"
      ]
     },
     "execution_count": 15,
     "metadata": {},
     "output_type": "execute_result"
    }
   ],
   "source": [
    "sum_to_n(10)"
   ]
  },
  {
   "cell_type": "code",
   "execution_count": 16,
   "id": "62a67c0e",
   "metadata": {},
   "outputs": [],
   "source": [
    "sum_to_n?"
   ]
  },
  {
   "cell_type": "code",
   "execution_count": 17,
   "id": "ea2eebab",
   "metadata": {},
   "outputs": [],
   "source": [
    "sum_to_n??"
   ]
  },
  {
   "cell_type": "code",
   "execution_count": 21,
   "id": "a8878e99",
   "metadata": {},
   "outputs": [
    {
     "ename": "TypeError",
     "evalue": "n은 정수여야 함.",
     "output_type": "error",
     "traceback": [
      "\u001b[1;31m---------------------------------------------------------------------------\u001b[0m",
      "\u001b[1;31mTypeError\u001b[0m                                 Traceback (most recent call last)",
      "\u001b[1;32m<ipython-input-21-2f5ca87685cc>\u001b[0m in \u001b[0;36m<module>\u001b[1;34m\u001b[0m\n\u001b[1;32m----> 1\u001b[1;33m \u001b[0msum_to_n\u001b[0m\u001b[1;33m(\u001b[0m\u001b[1;36m5.5\u001b[0m\u001b[1;33m)\u001b[0m\u001b[1;33m\u001b[0m\u001b[1;33m\u001b[0m\u001b[0m\n\u001b[0m",
      "\u001b[1;32m<ipython-input-20-a5ffbe7301a6>\u001b[0m in \u001b[0;36msum_to_n\u001b[1;34m(n)\u001b[0m\n\u001b[0;32m      4\u001b[0m     \"\"\"\n\u001b[0;32m      5\u001b[0m     \u001b[1;32mif\u001b[0m \u001b[0mtype\u001b[0m\u001b[1;33m(\u001b[0m\u001b[0mn\u001b[0m\u001b[1;33m)\u001b[0m \u001b[1;32mis\u001b[0m \u001b[1;32mnot\u001b[0m \u001b[0mint\u001b[0m\u001b[1;33m:\u001b[0m\u001b[1;33m\u001b[0m\u001b[1;33m\u001b[0m\u001b[0m\n\u001b[1;32m----> 6\u001b[1;33m         \u001b[1;32mraise\u001b[0m \u001b[0mTypeError\u001b[0m\u001b[1;33m(\u001b[0m\u001b[1;34m'n은 정수여야 함.'\u001b[0m\u001b[1;33m)\u001b[0m\u001b[1;33m\u001b[0m\u001b[1;33m\u001b[0m\u001b[0m\n\u001b[0m\u001b[0;32m      7\u001b[0m     \u001b[0msum\u001b[0m \u001b[1;33m=\u001b[0m \u001b[1;36m0\u001b[0m\u001b[1;33m\u001b[0m\u001b[1;33m\u001b[0m\u001b[0m\n\u001b[0;32m      8\u001b[0m     \u001b[1;32mfor\u001b[0m \u001b[0mi\u001b[0m \u001b[1;32min\u001b[0m \u001b[0mrange\u001b[0m\u001b[1;33m(\u001b[0m\u001b[0mn\u001b[0m\u001b[1;33m+\u001b[0m\u001b[1;36m1\u001b[0m\u001b[1;33m)\u001b[0m\u001b[1;33m:\u001b[0m\u001b[1;33m\u001b[0m\u001b[1;33m\u001b[0m\u001b[0m\n",
      "\u001b[1;31mTypeError\u001b[0m: n은 정수여야 함."
     ]
    }
   ],
   "source": [
    "sum_to_n(5.5)"
   ]
  },
  {
   "cell_type": "code",
   "execution_count": 24,
   "id": "42894089",
   "metadata": {},
   "outputs": [
    {
     "ename": "ValueError",
     "evalue": "n은 0보다 커야 함.",
     "output_type": "error",
     "traceback": [
      "\u001b[1;31m---------------------------------------------------------------------------\u001b[0m",
      "\u001b[1;31mValueError\u001b[0m                                Traceback (most recent call last)",
      "\u001b[1;32m<ipython-input-24-dcbcd78a16f6>\u001b[0m in \u001b[0;36m<module>\u001b[1;34m\u001b[0m\n\u001b[1;32m----> 1\u001b[1;33m \u001b[0msum_to_n\u001b[0m\u001b[1;33m(\u001b[0m\u001b[1;33m-\u001b[0m\u001b[1;36m5\u001b[0m\u001b[1;33m)\u001b[0m\u001b[1;33m\u001b[0m\u001b[1;33m\u001b[0m\u001b[0m\n\u001b[0m",
      "\u001b[1;32m<ipython-input-23-0af43d206932>\u001b[0m in \u001b[0;36msum_to_n\u001b[1;34m(n)\u001b[0m\n\u001b[0;32m      6\u001b[0m         \u001b[1;32mraise\u001b[0m \u001b[0mTypeError\u001b[0m\u001b[1;33m(\u001b[0m\u001b[1;34m'n은 정수여야 함.'\u001b[0m\u001b[1;33m)\u001b[0m\u001b[1;33m\u001b[0m\u001b[1;33m\u001b[0m\u001b[0m\n\u001b[0;32m      7\u001b[0m     \u001b[1;32mif\u001b[0m \u001b[0mn\u001b[0m \u001b[1;33m<\u001b[0m  \u001b[1;36m0\u001b[0m\u001b[1;33m:\u001b[0m\u001b[1;33m\u001b[0m\u001b[1;33m\u001b[0m\u001b[0m\n\u001b[1;32m----> 8\u001b[1;33m         \u001b[1;32mraise\u001b[0m \u001b[0mValueError\u001b[0m\u001b[1;33m(\u001b[0m\u001b[1;34m'n은 0보다 커야 함.'\u001b[0m\u001b[1;33m)\u001b[0m\u001b[1;33m\u001b[0m\u001b[1;33m\u001b[0m\u001b[0m\n\u001b[0m\u001b[0;32m      9\u001b[0m     \u001b[0msum\u001b[0m \u001b[1;33m=\u001b[0m \u001b[1;36m0\u001b[0m\u001b[1;33m\u001b[0m\u001b[1;33m\u001b[0m\u001b[0m\n\u001b[0;32m     10\u001b[0m     \u001b[1;32mfor\u001b[0m \u001b[0mi\u001b[0m \u001b[1;32min\u001b[0m \u001b[0mrange\u001b[0m\u001b[1;33m(\u001b[0m\u001b[0mn\u001b[0m\u001b[1;33m+\u001b[0m\u001b[1;36m1\u001b[0m\u001b[1;33m)\u001b[0m\u001b[1;33m:\u001b[0m\u001b[1;33m\u001b[0m\u001b[1;33m\u001b[0m\u001b[0m\n",
      "\u001b[1;31mValueError\u001b[0m: n은 0보다 커야 함."
     ]
    }
   ],
   "source": [
    "sum_to_n(-5)"
   ]
  },
  {
   "cell_type": "code",
   "execution_count": 42,
   "id": "20872899",
   "metadata": {},
   "outputs": [],
   "source": [
    "def sum_f(a, f = lambda x: x):\n",
    "    \"\"\"\n",
    "    시퀀스 a의 각 원소에 함수 f를 취한 값의 합\n",
    "    \n",
    "    파라미터\n",
    "    --------\n",
    "    a : sequence\n",
    "    f : function, default: 항등함수\n",
    "    \"\"\"\n",
    "    sum = 0\n",
    "    for v in a:\n",
    "        sum += f(v)\n",
    "    return sum"
   ]
  },
  {
   "cell_type": "code",
   "execution_count": 31,
   "id": "f75c167e",
   "metadata": {},
   "outputs": [],
   "source": [
    "def sq(x): return x * x"
   ]
  },
  {
   "cell_type": "code",
   "execution_count": 33,
   "id": "4e2971ab",
   "metadata": {},
   "outputs": [
    {
     "data": {
      "text/plain": [
       "45"
      ]
     },
     "execution_count": 33,
     "metadata": {},
     "output_type": "execute_result"
    }
   ],
   "source": [
    "my_list = [5, 2, 4]\n",
    "sum_f(my_list, sq)"
   ]
  },
  {
   "cell_type": "code",
   "execution_count": 35,
   "id": "ae4a49c6",
   "metadata": {},
   "outputs": [],
   "source": [
    "import math"
   ]
  },
  {
   "cell_type": "code",
   "execution_count": 36,
   "id": "bb2d785d",
   "metadata": {},
   "outputs": [
    {
     "data": {
      "text/plain": [
       "5.650281539872885"
      ]
     },
     "execution_count": 36,
     "metadata": {},
     "output_type": "execute_result"
    }
   ],
   "source": [
    "sum_f(my_list, math.sqrt)"
   ]
  },
  {
   "cell_type": "code",
   "execution_count": 40,
   "id": "3ec903c2",
   "metadata": {},
   "outputs": [
    {
     "data": {
      "text/plain": [
       "45"
      ]
     },
     "execution_count": 40,
     "metadata": {},
     "output_type": "execute_result"
    }
   ],
   "source": [
    "sum_f(my_list, lambda x: x * x)"
   ]
  },
  {
   "cell_type": "code",
   "execution_count": 41,
   "id": "b82e897a",
   "metadata": {},
   "outputs": [
    {
     "data": {
      "text/plain": [
       "1"
      ]
     },
     "execution_count": 41,
     "metadata": {},
     "output_type": "execute_result"
    }
   ],
   "source": [
    "sum_f(my_list, lambda x: x % 2)"
   ]
  },
  {
   "cell_type": "code",
   "execution_count": 43,
   "id": "89154049",
   "metadata": {},
   "outputs": [
    {
     "data": {
      "text/plain": [
       "11"
      ]
     },
     "execution_count": 43,
     "metadata": {},
     "output_type": "execute_result"
    }
   ],
   "source": [
    "sum_f(my_list)"
   ]
  },
  {
   "cell_type": "code",
   "execution_count": 44,
   "id": "38b8c1dc",
   "metadata": {},
   "outputs": [],
   "source": [
    "s = ['tiger', 'giraffe', 'cat', 'dog']"
   ]
  },
  {
   "cell_type": "code",
   "execution_count": 45,
   "id": "00dee2d0",
   "metadata": {},
   "outputs": [],
   "source": [
    "s.sort()"
   ]
  },
  {
   "cell_type": "code",
   "execution_count": 46,
   "id": "51070e39",
   "metadata": {},
   "outputs": [
    {
     "data": {
      "text/plain": [
       "['cat', 'dog', 'giraffe', 'tiger']"
      ]
     },
     "execution_count": 46,
     "metadata": {},
     "output_type": "execute_result"
    }
   ],
   "source": [
    "s"
   ]
  },
  {
   "cell_type": "code",
   "execution_count": 47,
   "id": "f2541b34",
   "metadata": {},
   "outputs": [],
   "source": [
    "s.sort(key=lambda x: len(x))"
   ]
  },
  {
   "cell_type": "code",
   "execution_count": 48,
   "id": "ae79ba69",
   "metadata": {},
   "outputs": [
    {
     "data": {
      "text/plain": [
       "['cat', 'dog', 'tiger', 'giraffe']"
      ]
     },
     "execution_count": 48,
     "metadata": {},
     "output_type": "execute_result"
    }
   ],
   "source": [
    "s"
   ]
  },
  {
   "cell_type": "markdown",
   "id": "71aaeff7",
   "metadata": {},
   "source": [
    "# 파이썬 자료구조"
   ]
  },
  {
   "cell_type": "code",
   "execution_count": 50,
   "id": "03f18203",
   "metadata": {},
   "outputs": [],
   "source": [
    "lst = [5, 2, 7, 9, 8, 2]"
   ]
  },
  {
   "cell_type": "code",
   "execution_count": 51,
   "id": "e3145619",
   "metadata": {},
   "outputs": [
    {
     "data": {
      "text/plain": [
       "list"
      ]
     },
     "execution_count": 51,
     "metadata": {},
     "output_type": "execute_result"
    }
   ],
   "source": [
    "type(lst)"
   ]
  },
  {
   "cell_type": "code",
   "execution_count": 53,
   "id": "89c83c55",
   "metadata": {},
   "outputs": [],
   "source": [
    "lst.append(100)"
   ]
  },
  {
   "cell_type": "code",
   "execution_count": 54,
   "id": "755ad9f6",
   "metadata": {},
   "outputs": [],
   "source": [
    "lst.sort()"
   ]
  },
  {
   "cell_type": "code",
   "execution_count": 55,
   "id": "43d3ce98",
   "metadata": {},
   "outputs": [
    {
     "data": {
      "text/plain": [
       "[2, 2, 5, 7, 8, 9, 100]"
      ]
     },
     "execution_count": 55,
     "metadata": {},
     "output_type": "execute_result"
    }
   ],
   "source": [
    "lst"
   ]
  },
  {
   "cell_type": "code",
   "execution_count": 56,
   "id": "ad8945be",
   "metadata": {},
   "outputs": [],
   "source": [
    "lst = [4, 2, 6, 1]"
   ]
  },
  {
   "cell_type": "code",
   "execution_count": 57,
   "id": "1f8e12da",
   "metadata": {},
   "outputs": [
    {
     "data": {
      "text/plain": [
       "[1, 2, 4, 6]"
      ]
     },
     "execution_count": 57,
     "metadata": {},
     "output_type": "execute_result"
    }
   ],
   "source": [
    "sorted(lst)"
   ]
  },
  {
   "cell_type": "code",
   "execution_count": 58,
   "id": "c4dc907d",
   "metadata": {},
   "outputs": [
    {
     "data": {
      "text/plain": [
       "[4, 2, 6, 1]"
      ]
     },
     "execution_count": 58,
     "metadata": {},
     "output_type": "execute_result"
    }
   ],
   "source": [
    "lst"
   ]
  },
  {
   "cell_type": "code",
   "execution_count": 59,
   "id": "86eca9ab",
   "metadata": {},
   "outputs": [],
   "source": [
    "a = sorted(lst)"
   ]
  },
  {
   "cell_type": "code",
   "execution_count": 60,
   "id": "d6996dd5",
   "metadata": {},
   "outputs": [
    {
     "data": {
      "text/plain": [
       "[1, 2, 4, 6]"
      ]
     },
     "execution_count": 60,
     "metadata": {},
     "output_type": "execute_result"
    }
   ],
   "source": [
    "a"
   ]
  },
  {
   "cell_type": "code",
   "execution_count": 61,
   "id": "493a070f",
   "metadata": {},
   "outputs": [
    {
     "data": {
      "text/plain": [
       "[4, 2, 6, 1]"
      ]
     },
     "execution_count": 61,
     "metadata": {},
     "output_type": "execute_result"
    }
   ],
   "source": [
    "lst"
   ]
  },
  {
   "cell_type": "code",
   "execution_count": 64,
   "id": "13536fb2",
   "metadata": {},
   "outputs": [],
   "source": [
    "lst.sort?"
   ]
  },
  {
   "cell_type": "code",
   "execution_count": 65,
   "id": "aa382842",
   "metadata": {},
   "outputs": [],
   "source": [
    "lst.sort(reverse=True)"
   ]
  },
  {
   "cell_type": "code",
   "execution_count": 66,
   "id": "4858ef83",
   "metadata": {},
   "outputs": [
    {
     "data": {
      "text/plain": [
       "[6, 4, 2, 1]"
      ]
     },
     "execution_count": 66,
     "metadata": {},
     "output_type": "execute_result"
    }
   ],
   "source": [
    "lst"
   ]
  },
  {
   "cell_type": "code",
   "execution_count": 67,
   "id": "96e25980",
   "metadata": {},
   "outputs": [],
   "source": [
    "seq = [5, 2, 5, 3, 4, 7, 8]"
   ]
  },
  {
   "cell_type": "code",
   "execution_count": 68,
   "id": "7dba722a",
   "metadata": {},
   "outputs": [
    {
     "data": {
      "text/plain": [
       "[5, 3]"
      ]
     },
     "execution_count": 68,
     "metadata": {},
     "output_type": "execute_result"
    }
   ],
   "source": [
    "seq[2:4]"
   ]
  },
  {
   "cell_type": "code",
   "execution_count": 69,
   "id": "b4d975e7",
   "metadata": {},
   "outputs": [
    {
     "data": {
      "text/plain": [
       "[5, 2, 5]"
      ]
     },
     "execution_count": 69,
     "metadata": {},
     "output_type": "execute_result"
    }
   ],
   "source": [
    "seq[:3]"
   ]
  },
  {
   "cell_type": "code",
   "execution_count": 70,
   "id": "0684c73f",
   "metadata": {},
   "outputs": [
    {
     "data": {
      "text/plain": [
       "[3, 4, 7, 8]"
      ]
     },
     "execution_count": 70,
     "metadata": {},
     "output_type": "execute_result"
    }
   ],
   "source": [
    "seq[3:]"
   ]
  },
  {
   "cell_type": "code",
   "execution_count": 71,
   "id": "49a62c0c",
   "metadata": {},
   "outputs": [],
   "source": [
    "m = [[1, 2, 3], [4, 5, 6]]"
   ]
  },
  {
   "cell_type": "code",
   "execution_count": 72,
   "id": "7479af9a",
   "metadata": {},
   "outputs": [
    {
     "data": {
      "text/plain": [
       "[[1, 2, 3], [4, 5, 6]]"
      ]
     },
     "execution_count": 72,
     "metadata": {},
     "output_type": "execute_result"
    }
   ],
   "source": [
    "m"
   ]
  },
  {
   "cell_type": "code",
   "execution_count": 73,
   "id": "9c4879d3",
   "metadata": {},
   "outputs": [
    {
     "data": {
      "text/plain": [
       "2"
      ]
     },
     "execution_count": 73,
     "metadata": {},
     "output_type": "execute_result"
    }
   ],
   "source": [
    "m[0][1]"
   ]
  },
  {
   "cell_type": "code",
   "execution_count": 74,
   "id": "03f95957",
   "metadata": {},
   "outputs": [
    {
     "data": {
      "text/plain": [
       "[1, 2, 3]"
      ]
     },
     "execution_count": 74,
     "metadata": {},
     "output_type": "execute_result"
    }
   ],
   "source": [
    "m[0]"
   ]
  },
  {
   "cell_type": "code",
   "execution_count": 75,
   "id": "35690a88",
   "metadata": {},
   "outputs": [],
   "source": [
    "t = (4, 5, 6)"
   ]
  },
  {
   "cell_type": "code",
   "execution_count": 76,
   "id": "6c8f20c6",
   "metadata": {},
   "outputs": [
    {
     "data": {
      "text/plain": [
       "tuple"
      ]
     },
     "execution_count": 76,
     "metadata": {},
     "output_type": "execute_result"
    }
   ],
   "source": [
    "type(t)"
   ]
  },
  {
   "cell_type": "code",
   "execution_count": 77,
   "id": "39e16445",
   "metadata": {},
   "outputs": [],
   "source": [
    "a, b, c = t"
   ]
  },
  {
   "cell_type": "code",
   "execution_count": 78,
   "id": "88503d68",
   "metadata": {},
   "outputs": [
    {
     "data": {
      "text/plain": [
       "4"
      ]
     },
     "execution_count": 78,
     "metadata": {},
     "output_type": "execute_result"
    }
   ],
   "source": [
    "a"
   ]
  },
  {
   "cell_type": "code",
   "execution_count": 83,
   "id": "7a633bc5",
   "metadata": {},
   "outputs": [],
   "source": [
    "a, *_ = t"
   ]
  },
  {
   "cell_type": "code",
   "execution_count": 84,
   "id": "68e9c2d1",
   "metadata": {},
   "outputs": [
    {
     "data": {
      "text/plain": [
       "4"
      ]
     },
     "execution_count": 84,
     "metadata": {},
     "output_type": "execute_result"
    }
   ],
   "source": [
    "a"
   ]
  },
  {
   "cell_type": "code",
   "execution_count": 86,
   "id": "750b725d",
   "metadata": {},
   "outputs": [],
   "source": [
    "lst = [5, 2, 8, 9, 6]"
   ]
  },
  {
   "cell_type": "code",
   "execution_count": 88,
   "id": "419c4244",
   "metadata": {},
   "outputs": [
    {
     "name": "stdout",
     "output_type": "stream",
     "text": [
      "0 5\n",
      "1 2\n",
      "2 8\n",
      "3 9\n",
      "4 6\n"
     ]
    }
   ],
   "source": [
    "for i, x in enumerate(lst):\n",
    "    print(i, x)"
   ]
  },
  {
   "cell_type": "code",
   "execution_count": 93,
   "id": "0d87fc79",
   "metadata": {},
   "outputs": [],
   "source": [
    "x = [2, 4, 6, 8]; y = [100, 200, 300]"
   ]
  },
  {
   "cell_type": "code",
   "execution_count": 94,
   "id": "c9b99fbb",
   "metadata": {},
   "outputs": [
    {
     "name": "stdout",
     "output_type": "stream",
     "text": [
      "2 100\n",
      "4 200\n",
      "6 300\n"
     ]
    }
   ],
   "source": [
    "for a, b, in zip(x, y):\n",
    "    print(a, b)"
   ]
  },
  {
   "cell_type": "code",
   "execution_count": 98,
   "id": "a43e2f19",
   "metadata": {},
   "outputs": [],
   "source": [
    "d = {'한국':'서울', '일본':'동경', '중국':'북경'}"
   ]
  },
  {
   "cell_type": "code",
   "execution_count": 99,
   "id": "5f177159",
   "metadata": {},
   "outputs": [
    {
     "data": {
      "text/plain": [
       "dict"
      ]
     },
     "execution_count": 99,
     "metadata": {},
     "output_type": "execute_result"
    }
   ],
   "source": [
    "type(d)"
   ]
  },
  {
   "cell_type": "code",
   "execution_count": 101,
   "id": "c60baf64",
   "metadata": {},
   "outputs": [
    {
     "data": {
      "text/plain": [
       "'북경'"
      ]
     },
     "execution_count": 101,
     "metadata": {},
     "output_type": "execute_result"
    }
   ],
   "source": [
    "d['중국']"
   ]
  },
  {
   "cell_type": "code",
   "execution_count": 102,
   "id": "8eb6a7dc",
   "metadata": {},
   "outputs": [
    {
     "data": {
      "text/plain": [
       "'서울'"
      ]
     },
     "execution_count": 102,
     "metadata": {},
     "output_type": "execute_result"
    }
   ],
   "source": [
    "d['한국']"
   ]
  },
  {
   "cell_type": "code",
   "execution_count": 104,
   "id": "ebc44cfc",
   "metadata": {},
   "outputs": [],
   "source": [
    "d['프랑스'] = '파리'"
   ]
  },
  {
   "cell_type": "code",
   "execution_count": 106,
   "id": "e56a3855",
   "metadata": {},
   "outputs": [
    {
     "data": {
      "text/plain": [
       "{'한국': '서울', '일본': '동경', '중국': '북경', '프랑스': '파리'}"
      ]
     },
     "execution_count": 106,
     "metadata": {},
     "output_type": "execute_result"
    }
   ],
   "source": [
    "d"
   ]
  },
  {
   "cell_type": "code",
   "execution_count": 107,
   "id": "17e6e164",
   "metadata": {},
   "outputs": [],
   "source": [
    "del d['일본']"
   ]
  },
  {
   "cell_type": "code",
   "execution_count": 108,
   "id": "966bba6a",
   "metadata": {},
   "outputs": [
    {
     "data": {
      "text/plain": [
       "{'한국': '서울', '중국': '북경', '프랑스': '파리'}"
      ]
     },
     "execution_count": 108,
     "metadata": {},
     "output_type": "execute_result"
    }
   ],
   "source": [
    "d"
   ]
  },
  {
   "cell_type": "code",
   "execution_count": 109,
   "id": "11c4490c",
   "metadata": {},
   "outputs": [
    {
     "data": {
      "text/plain": [
       "dict_keys(['한국', '중국', '프랑스'])"
      ]
     },
     "execution_count": 109,
     "metadata": {},
     "output_type": "execute_result"
    }
   ],
   "source": [
    "d.keys()"
   ]
  },
  {
   "cell_type": "code",
   "execution_count": 110,
   "id": "c268c3ee",
   "metadata": {},
   "outputs": [
    {
     "data": {
      "text/plain": [
       "dict_values(['서울', '북경', '파리'])"
      ]
     },
     "execution_count": 110,
     "metadata": {},
     "output_type": "execute_result"
    }
   ],
   "source": [
    "d.values()"
   ]
  },
  {
   "cell_type": "code",
   "execution_count": 111,
   "id": "d40abb00",
   "metadata": {},
   "outputs": [
    {
     "data": {
      "text/plain": [
       "dict_items([('한국', '서울'), ('중국', '북경'), ('프랑스', '파리')])"
      ]
     },
     "execution_count": 111,
     "metadata": {},
     "output_type": "execute_result"
    }
   ],
   "source": [
    "d.items()"
   ]
  },
  {
   "cell_type": "code",
   "execution_count": 112,
   "id": "fe31b3b8",
   "metadata": {},
   "outputs": [],
   "source": [
    "d['한국'] = 'Seoul'"
   ]
  },
  {
   "cell_type": "code",
   "execution_count": 113,
   "id": "9ff511b7",
   "metadata": {},
   "outputs": [
    {
     "data": {
      "text/plain": [
       "{'한국': 'Seoul', '중국': '북경', '프랑스': '파리'}"
      ]
     },
     "execution_count": 113,
     "metadata": {},
     "output_type": "execute_result"
    }
   ],
   "source": [
    "d"
   ]
  },
  {
   "cell_type": "code",
   "execution_count": 114,
   "id": "987686a8",
   "metadata": {},
   "outputs": [],
   "source": [
    "s1 = {1, 2, 3, 3}"
   ]
  },
  {
   "cell_type": "code",
   "execution_count": 115,
   "id": "533f1876",
   "metadata": {},
   "outputs": [
    {
     "data": {
      "text/plain": [
       "{1, 2, 3}"
      ]
     },
     "execution_count": 115,
     "metadata": {},
     "output_type": "execute_result"
    }
   ],
   "source": [
    "s1"
   ]
  },
  {
   "cell_type": "code",
   "execution_count": 116,
   "id": "e57c9638",
   "metadata": {},
   "outputs": [],
   "source": [
    "s2 = {2, 3, 4}"
   ]
  },
  {
   "cell_type": "code",
   "execution_count": 117,
   "id": "17ce04c7",
   "metadata": {},
   "outputs": [
    {
     "data": {
      "text/plain": [
       "{1, 2, 3, 4}"
      ]
     },
     "execution_count": 117,
     "metadata": {},
     "output_type": "execute_result"
    }
   ],
   "source": [
    "s1.union(s2)"
   ]
  },
  {
   "cell_type": "code",
   "execution_count": 118,
   "id": "c13787c6",
   "metadata": {},
   "outputs": [
    {
     "data": {
      "text/plain": [
       "{2, 3}"
      ]
     },
     "execution_count": 118,
     "metadata": {},
     "output_type": "execute_result"
    }
   ],
   "source": [
    "s1.intersection(s2)"
   ]
  },
  {
   "cell_type": "code",
   "execution_count": 126,
   "id": "c61050a0",
   "metadata": {},
   "outputs": [],
   "source": [
    "x = [a for a in range(5) if a % 2 == 0]"
   ]
  },
  {
   "cell_type": "code",
   "execution_count": 127,
   "id": "a2f9f734",
   "metadata": {},
   "outputs": [
    {
     "data": {
      "text/plain": [
       "[0, 2, 4]"
      ]
     },
     "execution_count": 127,
     "metadata": {},
     "output_type": "execute_result"
    }
   ],
   "source": [
    "x"
   ]
  },
  {
   "cell_type": "code",
   "execution_count": 128,
   "id": "02d7a3d3",
   "metadata": {},
   "outputs": [
    {
     "data": {
      "text/plain": [
       "['BAT', 'CAR', 'DOVE', 'PYTHON']"
      ]
     },
     "execution_count": 128,
     "metadata": {},
     "output_type": "execute_result"
    }
   ],
   "source": [
    "strings = ['a', 'as', 'bat', 'car', 'dove', 'python']\n",
    "[x.upper() for x in strings if len(x) > 2]"
   ]
  },
  {
   "cell_type": "code",
   "execution_count": 129,
   "id": "a634fde1",
   "metadata": {},
   "outputs": [],
   "source": [
    "def squares(n=10):\n",
    "    for i in range(1, n + 1):\n",
    "        yield i ** 2"
   ]
  },
  {
   "cell_type": "code",
   "execution_count": 130,
   "id": "fdaa590e",
   "metadata": {},
   "outputs": [
    {
     "data": {
      "text/plain": [
       "<generator object squares at 0x00000240EE58C7B0>"
      ]
     },
     "execution_count": 130,
     "metadata": {},
     "output_type": "execute_result"
    }
   ],
   "source": [
    "squares(5)"
   ]
  },
  {
   "cell_type": "code",
   "execution_count": 133,
   "id": "c16a293d",
   "metadata": {},
   "outputs": [
    {
     "name": "stdout",
     "output_type": "stream",
     "text": [
      "1\n",
      "4\n",
      "9\n",
      "16\n",
      "25\n"
     ]
    }
   ],
   "source": [
    "for x in squares(5):\n",
    "    print(x)"
   ]
  },
  {
   "cell_type": "code",
   "execution_count": null,
   "id": "de1f07a9",
   "metadata": {},
   "outputs": [],
   "source": []
  }
 ],
 "metadata": {
  "kernelspec": {
   "display_name": "Python 3",
   "language": "python",
   "name": "python3"
  },
  "language_info": {
   "codemirror_mode": {
    "name": "ipython",
    "version": 3
   },
   "file_extension": ".py",
   "mimetype": "text/x-python",
   "name": "python",
   "nbconvert_exporter": "python",
   "pygments_lexer": "ipython3",
   "version": "3.8.8"
  }
 },
 "nbformat": 4,
 "nbformat_minor": 5
}

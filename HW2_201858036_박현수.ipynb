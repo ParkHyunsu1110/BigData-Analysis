{
 "cells": [
  {
   "cell_type": "markdown",
   "id": "8288aa22",
   "metadata": {},
   "source": [
    "# < 과제 #2 : Numpy/Pandas/Matplotlib > "
   ]
  },
  {
   "cell_type": "markdown",
   "id": "d8d9de06",
   "metadata": {},
   "source": [
    "## 빅데이터분석 B\n",
    "## 컴퓨터 공학부 201858036 박현수"
   ]
  },
  {
   "cell_type": "code",
   "execution_count": 81,
   "id": "6c504e63",
   "metadata": {},
   "outputs": [],
   "source": [
    "# 총 import 내용\n",
    "import numpy as np\n",
    "import pandas as pd\n",
    "import matplotlib.pyplot as plt\n",
    "\n",
    "import random\n",
    "import math"
   ]
  },
  {
   "cell_type": "markdown",
   "id": "c102a7d6",
   "metadata": {},
   "source": [
    "## [A] Numpy"
   ]
  },
  {
   "cell_type": "markdown",
   "id": "4f598830",
   "metadata": {},
   "source": [
    "### 1)  모양이 (20, )인 4개의 1차원 배열 a, b, c, d를 만드시오. "
   ]
  },
  {
   "cell_type": "code",
   "execution_count": 82,
   "id": "9ee76f7e",
   "metadata": {},
   "outputs": [],
   "source": [
    "# a : 처음 15개는 3, 나머지 5개는 4인 배열\n",
    "grid1 = np.full((15), 3); grid2 = np.full((5), 4)\n",
    "a = np.concatenate([grid1, grid2])\n",
    "\n",
    "# b : 정수 집합 {1, 2}에서 랜덤하게 뽑은 난수 배열(단, seed는 1로 설정)\n",
    "np.random.seed(1)\n",
    "b = np.random.randint(1, 3, size=20)\n",
    "\n",
    "# c : 정수 집합 {1, 2, ... , 99, 100}에서 랜덤하게 뽑은 난수 배열(단 seed는 2로 설정)\n",
    "np.random.seed(2)\n",
    "c = np.random.randint(1, 101, size=20)\n",
    "\n",
    "# d : [0, 1) 구간에서 뽑은 난수 배열(단, seed는 3으로 설정)에 대하여 100을 곱한 후, 칼럼으로 이어 붙여 모양이 (20, 4)인 2차원 배열 m을 만드시오.\n",
    "np.random.seed(3)\n",
    "d = np.random.random(20)\n",
    "d = np.trunc(d * 100) + 1"
   ]
  },
  {
   "cell_type": "code",
   "execution_count": 83,
   "id": "a7739cd2",
   "metadata": {},
   "outputs": [
    {
     "name": "stdout",
     "output_type": "stream",
     "text": [
      "[3 3 3 3 3 3 3 3 3 3 3 3 3 3 3 4 4 4 4 4]\n",
      "[2 2 1 1 2 2 2 2 2 1 1 2 1 2 2 1 1 2 1 1]\n",
      "[41 16 73 23 44 83 76  8 35 50 96 76 86 48 64 32 91 21 38 40]\n",
      "[56. 71. 30. 52. 90. 90. 13. 21.  6. 45.  3. 46. 65. 28. 68. 60.  3. 56.\n",
      " 26. 42.]\n"
     ]
    }
   ],
   "source": [
    "print(a, b, c, d, sep='\\n')"
   ]
  },
  {
   "cell_type": "markdown",
   "id": "32bff833",
   "metadata": {},
   "source": [
    "### 2)  1)에서 만든 4개의 1차원 배열을 각각 2차원 배열, 즉 모양이 (20,1)이 되도록 재구조화한 후, 칼럼으로 이어 붙여 모양이 (20,4)인 2차원 배열 m을 만드시오."
   ]
  },
  {
   "cell_type": "code",
   "execution_count": 84,
   "id": "b1d6751c",
   "metadata": {},
   "outputs": [],
   "source": [
    "a = a.reshape(-1, 1); b = b.reshape(-1, 1)\n",
    "c = c.reshape(-1, 1); d = d.reshape(-1, 1)"
   ]
  },
  {
   "cell_type": "code",
   "execution_count": 85,
   "id": "495a2f51",
   "metadata": {},
   "outputs": [
    {
     "name": "stdout",
     "output_type": "stream",
     "text": [
      "[[ 3.  2. 41. 56.]\n",
      " [ 3.  2. 16. 71.]\n",
      " [ 3.  1. 73. 30.]\n",
      " [ 3.  1. 23. 52.]\n",
      " [ 3.  2. 44. 90.]\n",
      " [ 3.  2. 83. 90.]\n",
      " [ 3.  2. 76. 13.]\n",
      " [ 3.  2.  8. 21.]\n",
      " [ 3.  2. 35.  6.]\n",
      " [ 3.  1. 50. 45.]\n",
      " [ 3.  1. 96.  3.]\n",
      " [ 3.  2. 76. 46.]\n",
      " [ 3.  1. 86. 65.]\n",
      " [ 3.  2. 48. 28.]\n",
      " [ 3.  2. 64. 68.]\n",
      " [ 4.  1. 32. 60.]\n",
      " [ 4.  1. 91.  3.]\n",
      " [ 4.  2. 21. 56.]\n",
      " [ 4.  1. 38. 26.]\n",
      " [ 4.  1. 40. 42.]]\n"
     ]
    }
   ],
   "source": [
    "m = np.hstack((a, b, c, d))\n",
    "print(m)"
   ]
  },
  {
   "cell_type": "markdown",
   "id": "6e72404f",
   "metadata": {},
   "source": [
    "### 3) 배열 m에 대하여 열별 평균을 구하시오."
   ]
  },
  {
   "cell_type": "code",
   "execution_count": 86,
   "id": "7d687434",
   "metadata": {},
   "outputs": [
    {
     "name": "stdout",
     "output_type": "stream",
     "text": [
      "[ 3.25  1.55 52.05 43.55]\n"
     ]
    }
   ],
   "source": [
    "avgsM = np.mean(m, axis=0)\n",
    "print(avgsM)"
   ]
  },
  {
   "cell_type": "markdown",
   "id": "962a8b63",
   "metadata": {},
   "source": [
    "### 4) 0번째 칼럼의 값이 3인, 즉 처음 15개의 행을 취하여 m3를 만들고 각 열의 평균을 구하시오."
   ]
  },
  {
   "cell_type": "code",
   "execution_count": 87,
   "id": "c17dbc6b",
   "metadata": {},
   "outputs": [
    {
     "data": {
      "text/plain": [
       "array([ 3.        ,  1.66666667, 54.6       , 45.6       ])"
      ]
     },
     "execution_count": 87,
     "metadata": {},
     "output_type": "execute_result"
    }
   ],
   "source": [
    "m3 = m[np.where(m[:, 0] == 3)]\n",
    "m3.mean(axis=0)"
   ]
  },
  {
   "cell_type": "markdown",
   "id": "63e2b55d",
   "metadata": {},
   "source": [
    "### 5) 1번째 칼럼의 값이 1인 행을 취하여 m1을 만들고 각 열의 최댓값을 구하시오."
   ]
  },
  {
   "cell_type": "code",
   "execution_count": 88,
   "id": "acd0d2be",
   "metadata": {},
   "outputs": [],
   "source": [
    "m1 = m[np.where(m[:, 1] == 1)]"
   ]
  },
  {
   "cell_type": "code",
   "execution_count": 89,
   "id": "5b04fb65",
   "metadata": {},
   "outputs": [
    {
     "name": "stdout",
     "output_type": "stream",
     "text": [
      "[ 4.  1. 96. 65.]\n"
     ]
    }
   ],
   "source": [
    "print(np.max(m1, axis=0))"
   ]
  },
  {
   "cell_type": "markdown",
   "id": "a93d1961",
   "metadata": {},
   "source": [
    "### 6) 3번째 열의 값이 2번째 열의 값보다 더 큰 행의 행 인덱스를 구하시오."
   ]
  },
  {
   "cell_type": "code",
   "execution_count": 90,
   "id": "f8daf48a",
   "metadata": {},
   "outputs": [
    {
     "data": {
      "text/plain": [
       "(array([ 0,  1,  3,  4,  5,  7, 14, 15, 17, 19], dtype=int64),)"
      ]
     },
     "execution_count": 90,
     "metadata": {},
     "output_type": "execute_result"
    }
   ],
   "source": [
    "np.where(m[:, 3] > m[:, 2])"
   ]
  },
  {
   "cell_type": "markdown",
   "id": "d461721c",
   "metadata": {},
   "source": [
    "# "
   ]
  },
  {
   "cell_type": "markdown",
   "id": "302c848b",
   "metadata": {},
   "source": [
    "## [B] Pandas"
   ]
  },
  {
   "cell_type": "markdown",
   "id": "17e14dc0",
   "metadata": {},
   "source": [
    "### 1) 타이타닉 데이터 파일을 읽어 titanic 데이터프레임을 만든 후, Name, Ticket, Cabin 칼럼을 삭제한 titanic2 데이터프레임을 만들어 마지막 3개의 행을 출력하시오."
   ]
  },
  {
   "cell_type": "code",
   "execution_count": 91,
   "id": "905e0646",
   "metadata": {},
   "outputs": [],
   "source": [
    "titanic = pd.read_csv('titanic.csv')"
   ]
  },
  {
   "cell_type": "code",
   "execution_count": 92,
   "id": "7a6cdeda",
   "metadata": {},
   "outputs": [
    {
     "data": {
      "text/html": [
       "<div>\n",
       "<style scoped>\n",
       "    .dataframe tbody tr th:only-of-type {\n",
       "        vertical-align: middle;\n",
       "    }\n",
       "\n",
       "    .dataframe tbody tr th {\n",
       "        vertical-align: top;\n",
       "    }\n",
       "\n",
       "    .dataframe thead th {\n",
       "        text-align: right;\n",
       "    }\n",
       "</style>\n",
       "<table border=\"1\" class=\"dataframe\">\n",
       "  <thead>\n",
       "    <tr style=\"text-align: right;\">\n",
       "      <th></th>\n",
       "      <th>PassengerId</th>\n",
       "      <th>Survived</th>\n",
       "      <th>Pclass</th>\n",
       "      <th>Sex</th>\n",
       "      <th>Age</th>\n",
       "      <th>SibSp</th>\n",
       "      <th>Parch</th>\n",
       "      <th>Fare</th>\n",
       "      <th>Embarked</th>\n",
       "    </tr>\n",
       "  </thead>\n",
       "  <tbody>\n",
       "    <tr>\n",
       "      <th>888</th>\n",
       "      <td>889</td>\n",
       "      <td>0</td>\n",
       "      <td>3</td>\n",
       "      <td>female</td>\n",
       "      <td>NaN</td>\n",
       "      <td>1</td>\n",
       "      <td>2</td>\n",
       "      <td>23.45</td>\n",
       "      <td>S</td>\n",
       "    </tr>\n",
       "    <tr>\n",
       "      <th>889</th>\n",
       "      <td>890</td>\n",
       "      <td>1</td>\n",
       "      <td>1</td>\n",
       "      <td>male</td>\n",
       "      <td>26.0</td>\n",
       "      <td>0</td>\n",
       "      <td>0</td>\n",
       "      <td>30.00</td>\n",
       "      <td>C</td>\n",
       "    </tr>\n",
       "    <tr>\n",
       "      <th>890</th>\n",
       "      <td>891</td>\n",
       "      <td>0</td>\n",
       "      <td>3</td>\n",
       "      <td>male</td>\n",
       "      <td>32.0</td>\n",
       "      <td>0</td>\n",
       "      <td>0</td>\n",
       "      <td>7.75</td>\n",
       "      <td>Q</td>\n",
       "    </tr>\n",
       "  </tbody>\n",
       "</table>\n",
       "</div>"
      ],
      "text/plain": [
       "     PassengerId  Survived  Pclass     Sex   Age  SibSp  Parch   Fare Embarked\n",
       "888          889         0       3  female   NaN      1      2  23.45        S\n",
       "889          890         1       1    male  26.0      0      0  30.00        C\n",
       "890          891         0       3    male  32.0      0      0   7.75        Q"
      ]
     },
     "execution_count": 92,
     "metadata": {},
     "output_type": "execute_result"
    }
   ],
   "source": [
    "titanic2 = titanic.drop(['Name', 'Ticket', 'Cabin'], axis=1)\n",
    "titanic2.tail(3)"
   ]
  },
  {
   "cell_type": "markdown",
   "id": "5c1e7f50",
   "metadata": {},
   "source": [
    "### 2) titanic2에는 Age와 Embarked 칼럼에 결측치가 존재한다. Age의 결측치는 평균으로 대체하고, Embarked는 가장 많이 출현하는 값으로 대체하여 titanic3 데이터프레임을 만드시오. (참고 : fillna 메서드 도움말 예제)"
   ]
  },
  {
   "cell_type": "code",
   "execution_count": 93,
   "id": "6a5b712c",
   "metadata": {
    "scrolled": true
   },
   "outputs": [
    {
     "name": "stdout",
     "output_type": "stream",
     "text": [
      "<class 'pandas.core.frame.DataFrame'>\n",
      "RangeIndex: 891 entries, 0 to 890\n",
      "Data columns (total 9 columns):\n",
      " #   Column       Non-Null Count  Dtype  \n",
      "---  ------       --------------  -----  \n",
      " 0   PassengerId  891 non-null    int64  \n",
      " 1   Survived     891 non-null    int64  \n",
      " 2   Pclass       891 non-null    int64  \n",
      " 3   Sex          891 non-null    object \n",
      " 4   Age          714 non-null    float64\n",
      " 5   SibSp        891 non-null    int64  \n",
      " 6   Parch        891 non-null    int64  \n",
      " 7   Fare         891 non-null    float64\n",
      " 8   Embarked     889 non-null    object \n",
      "dtypes: float64(2), int64(5), object(2)\n",
      "memory usage: 62.8+ KB\n"
     ]
    }
   ],
   "source": [
    "titanic2.info()"
   ]
  },
  {
   "cell_type": "code",
   "execution_count": 94,
   "id": "acfad367",
   "metadata": {},
   "outputs": [],
   "source": [
    "titanic3 = titanic2.fillna({'Age':titanic2['Age'].mean(),'Embarked':titanic2['Embarked'].mode()[0]})"
   ]
  },
  {
   "cell_type": "code",
   "execution_count": 95,
   "id": "005e325a",
   "metadata": {},
   "outputs": [
    {
     "name": "stdout",
     "output_type": "stream",
     "text": [
      "<class 'pandas.core.frame.DataFrame'>\n",
      "RangeIndex: 891 entries, 0 to 890\n",
      "Data columns (total 9 columns):\n",
      " #   Column       Non-Null Count  Dtype  \n",
      "---  ------       --------------  -----  \n",
      " 0   PassengerId  891 non-null    int64  \n",
      " 1   Survived     891 non-null    int64  \n",
      " 2   Pclass       891 non-null    int64  \n",
      " 3   Sex          891 non-null    object \n",
      " 4   Age          891 non-null    float64\n",
      " 5   SibSp        891 non-null    int64  \n",
      " 6   Parch        891 non-null    int64  \n",
      " 7   Fare         891 non-null    float64\n",
      " 8   Embarked     891 non-null    object \n",
      "dtypes: float64(2), int64(5), object(2)\n",
      "memory usage: 62.8+ KB\n"
     ]
    }
   ],
   "source": [
    "titanic3.info()"
   ]
  },
  {
   "cell_type": "markdown",
   "id": "0519dcc9",
   "metadata": {},
   "source": [
    "### 3) titanic3 데이터프레임에 대하여 아래 집계를 실시하시오."
   ]
  },
  {
   "cell_type": "markdown",
   "id": "b8974d2b",
   "metadata": {},
   "source": [
    "#### > Survived 그룹별 분포(개수)"
   ]
  },
  {
   "cell_type": "code",
   "execution_count": 96,
   "id": "5966eff0",
   "metadata": {},
   "outputs": [
    {
     "data": {
      "text/html": [
       "<div>\n",
       "<style scoped>\n",
       "    .dataframe tbody tr th:only-of-type {\n",
       "        vertical-align: middle;\n",
       "    }\n",
       "\n",
       "    .dataframe tbody tr th {\n",
       "        vertical-align: top;\n",
       "    }\n",
       "\n",
       "    .dataframe thead th {\n",
       "        text-align: right;\n",
       "    }\n",
       "</style>\n",
       "<table border=\"1\" class=\"dataframe\">\n",
       "  <thead>\n",
       "    <tr style=\"text-align: right;\">\n",
       "      <th></th>\n",
       "      <th>PassengerId</th>\n",
       "      <th>Pclass</th>\n",
       "      <th>Sex</th>\n",
       "      <th>Age</th>\n",
       "      <th>SibSp</th>\n",
       "      <th>Parch</th>\n",
       "      <th>Fare</th>\n",
       "      <th>Embarked</th>\n",
       "    </tr>\n",
       "    <tr>\n",
       "      <th>Survived</th>\n",
       "      <th></th>\n",
       "      <th></th>\n",
       "      <th></th>\n",
       "      <th></th>\n",
       "      <th></th>\n",
       "      <th></th>\n",
       "      <th></th>\n",
       "      <th></th>\n",
       "    </tr>\n",
       "  </thead>\n",
       "  <tbody>\n",
       "    <tr>\n",
       "      <th>0</th>\n",
       "      <td>549</td>\n",
       "      <td>549</td>\n",
       "      <td>549</td>\n",
       "      <td>549</td>\n",
       "      <td>549</td>\n",
       "      <td>549</td>\n",
       "      <td>549</td>\n",
       "      <td>549</td>\n",
       "    </tr>\n",
       "    <tr>\n",
       "      <th>1</th>\n",
       "      <td>342</td>\n",
       "      <td>342</td>\n",
       "      <td>342</td>\n",
       "      <td>342</td>\n",
       "      <td>342</td>\n",
       "      <td>342</td>\n",
       "      <td>342</td>\n",
       "      <td>342</td>\n",
       "    </tr>\n",
       "  </tbody>\n",
       "</table>\n",
       "</div>"
      ],
      "text/plain": [
       "          PassengerId  Pclass  Sex  Age  SibSp  Parch  Fare  Embarked\n",
       "Survived                                                             \n",
       "0                 549     549  549  549    549    549   549       549\n",
       "1                 342     342  342  342    342    342   342       342"
      ]
     },
     "execution_count": 96,
     "metadata": {},
     "output_type": "execute_result"
    }
   ],
   "source": [
    "titanic3.groupby('Survived').count()"
   ]
  },
  {
   "cell_type": "markdown",
   "id": "b261bfd5",
   "metadata": {},
   "source": [
    "#### > Survived 그룹별 Age 평균"
   ]
  },
  {
   "cell_type": "code",
   "execution_count": 97,
   "id": "83562853",
   "metadata": {},
   "outputs": [
    {
     "data": {
      "text/html": [
       "<div>\n",
       "<style scoped>\n",
       "    .dataframe tbody tr th:only-of-type {\n",
       "        vertical-align: middle;\n",
       "    }\n",
       "\n",
       "    .dataframe tbody tr th {\n",
       "        vertical-align: top;\n",
       "    }\n",
       "\n",
       "    .dataframe thead th {\n",
       "        text-align: right;\n",
       "    }\n",
       "</style>\n",
       "<table border=\"1\" class=\"dataframe\">\n",
       "  <thead>\n",
       "    <tr style=\"text-align: right;\">\n",
       "      <th></th>\n",
       "      <th>Age</th>\n",
       "    </tr>\n",
       "    <tr>\n",
       "      <th>Survived</th>\n",
       "      <th></th>\n",
       "    </tr>\n",
       "  </thead>\n",
       "  <tbody>\n",
       "    <tr>\n",
       "      <th>0</th>\n",
       "      <td>30.415100</td>\n",
       "    </tr>\n",
       "    <tr>\n",
       "      <th>1</th>\n",
       "      <td>28.549778</td>\n",
       "    </tr>\n",
       "  </tbody>\n",
       "</table>\n",
       "</div>"
      ],
      "text/plain": [
       "                Age\n",
       "Survived           \n",
       "0         30.415100\n",
       "1         28.549778"
      ]
     },
     "execution_count": 97,
     "metadata": {},
     "output_type": "execute_result"
    }
   ],
   "source": [
    "titanic3.groupby('Survived')[['Age']].mean()"
   ]
  },
  {
   "cell_type": "markdown",
   "id": "6c434bef",
   "metadata": {},
   "source": [
    "#### > Pclass 그룹별 분포, 단 Pclass 번호순으로 정렬"
   ]
  },
  {
   "cell_type": "code",
   "execution_count": 98,
   "id": "bc2ee506",
   "metadata": {},
   "outputs": [
    {
     "data": {
      "text/html": [
       "<div>\n",
       "<style scoped>\n",
       "    .dataframe tbody tr th:only-of-type {\n",
       "        vertical-align: middle;\n",
       "    }\n",
       "\n",
       "    .dataframe tbody tr th {\n",
       "        vertical-align: top;\n",
       "    }\n",
       "\n",
       "    .dataframe thead th {\n",
       "        text-align: right;\n",
       "    }\n",
       "</style>\n",
       "<table border=\"1\" class=\"dataframe\">\n",
       "  <thead>\n",
       "    <tr style=\"text-align: right;\">\n",
       "      <th></th>\n",
       "      <th>PassengerId</th>\n",
       "      <th>Survived</th>\n",
       "      <th>Sex</th>\n",
       "      <th>Age</th>\n",
       "      <th>SibSp</th>\n",
       "      <th>Parch</th>\n",
       "      <th>Fare</th>\n",
       "      <th>Embarked</th>\n",
       "    </tr>\n",
       "    <tr>\n",
       "      <th>Pclass</th>\n",
       "      <th></th>\n",
       "      <th></th>\n",
       "      <th></th>\n",
       "      <th></th>\n",
       "      <th></th>\n",
       "      <th></th>\n",
       "      <th></th>\n",
       "      <th></th>\n",
       "    </tr>\n",
       "  </thead>\n",
       "  <tbody>\n",
       "    <tr>\n",
       "      <th>1</th>\n",
       "      <td>216</td>\n",
       "      <td>216</td>\n",
       "      <td>216</td>\n",
       "      <td>216</td>\n",
       "      <td>216</td>\n",
       "      <td>216</td>\n",
       "      <td>216</td>\n",
       "      <td>216</td>\n",
       "    </tr>\n",
       "    <tr>\n",
       "      <th>2</th>\n",
       "      <td>184</td>\n",
       "      <td>184</td>\n",
       "      <td>184</td>\n",
       "      <td>184</td>\n",
       "      <td>184</td>\n",
       "      <td>184</td>\n",
       "      <td>184</td>\n",
       "      <td>184</td>\n",
       "    </tr>\n",
       "    <tr>\n",
       "      <th>3</th>\n",
       "      <td>491</td>\n",
       "      <td>491</td>\n",
       "      <td>491</td>\n",
       "      <td>491</td>\n",
       "      <td>491</td>\n",
       "      <td>491</td>\n",
       "      <td>491</td>\n",
       "      <td>491</td>\n",
       "    </tr>\n",
       "  </tbody>\n",
       "</table>\n",
       "</div>"
      ],
      "text/plain": [
       "        PassengerId  Survived  Sex  Age  SibSp  Parch  Fare  Embarked\n",
       "Pclass                                                               \n",
       "1               216       216  216  216    216    216   216       216\n",
       "2               184       184  184  184    184    184   184       184\n",
       "3               491       491  491  491    491    491   491       491"
      ]
     },
     "execution_count": 98,
     "metadata": {},
     "output_type": "execute_result"
    }
   ],
   "source": [
    "titanic3.sort_values(by=['Pclass'], ascending=True).groupby(['Pclass']).count()"
   ]
  },
  {
   "cell_type": "markdown",
   "id": "4cd36368",
   "metadata": {},
   "source": [
    "#### > Survived × Pclass 별 분포(개수)"
   ]
  },
  {
   "cell_type": "code",
   "execution_count": 99,
   "id": "c8422d30",
   "metadata": {
    "scrolled": true
   },
   "outputs": [
    {
     "data": {
      "text/html": [
       "<div>\n",
       "<style scoped>\n",
       "    .dataframe tbody tr th:only-of-type {\n",
       "        vertical-align: middle;\n",
       "    }\n",
       "\n",
       "    .dataframe tbody tr th {\n",
       "        vertical-align: top;\n",
       "    }\n",
       "\n",
       "    .dataframe thead th {\n",
       "        text-align: right;\n",
       "    }\n",
       "</style>\n",
       "<table border=\"1\" class=\"dataframe\">\n",
       "  <thead>\n",
       "    <tr style=\"text-align: right;\">\n",
       "      <th></th>\n",
       "      <th></th>\n",
       "      <th>PassengerId</th>\n",
       "      <th>Sex</th>\n",
       "      <th>Age</th>\n",
       "      <th>SibSp</th>\n",
       "      <th>Parch</th>\n",
       "      <th>Fare</th>\n",
       "      <th>Embarked</th>\n",
       "    </tr>\n",
       "    <tr>\n",
       "      <th>Survived</th>\n",
       "      <th>Pclass</th>\n",
       "      <th></th>\n",
       "      <th></th>\n",
       "      <th></th>\n",
       "      <th></th>\n",
       "      <th></th>\n",
       "      <th></th>\n",
       "      <th></th>\n",
       "    </tr>\n",
       "  </thead>\n",
       "  <tbody>\n",
       "    <tr>\n",
       "      <th rowspan=\"3\" valign=\"top\">0</th>\n",
       "      <th>1</th>\n",
       "      <td>80</td>\n",
       "      <td>80</td>\n",
       "      <td>80</td>\n",
       "      <td>80</td>\n",
       "      <td>80</td>\n",
       "      <td>80</td>\n",
       "      <td>80</td>\n",
       "    </tr>\n",
       "    <tr>\n",
       "      <th>2</th>\n",
       "      <td>97</td>\n",
       "      <td>97</td>\n",
       "      <td>97</td>\n",
       "      <td>97</td>\n",
       "      <td>97</td>\n",
       "      <td>97</td>\n",
       "      <td>97</td>\n",
       "    </tr>\n",
       "    <tr>\n",
       "      <th>3</th>\n",
       "      <td>372</td>\n",
       "      <td>372</td>\n",
       "      <td>372</td>\n",
       "      <td>372</td>\n",
       "      <td>372</td>\n",
       "      <td>372</td>\n",
       "      <td>372</td>\n",
       "    </tr>\n",
       "    <tr>\n",
       "      <th rowspan=\"3\" valign=\"top\">1</th>\n",
       "      <th>1</th>\n",
       "      <td>136</td>\n",
       "      <td>136</td>\n",
       "      <td>136</td>\n",
       "      <td>136</td>\n",
       "      <td>136</td>\n",
       "      <td>136</td>\n",
       "      <td>136</td>\n",
       "    </tr>\n",
       "    <tr>\n",
       "      <th>2</th>\n",
       "      <td>87</td>\n",
       "      <td>87</td>\n",
       "      <td>87</td>\n",
       "      <td>87</td>\n",
       "      <td>87</td>\n",
       "      <td>87</td>\n",
       "      <td>87</td>\n",
       "    </tr>\n",
       "    <tr>\n",
       "      <th>3</th>\n",
       "      <td>119</td>\n",
       "      <td>119</td>\n",
       "      <td>119</td>\n",
       "      <td>119</td>\n",
       "      <td>119</td>\n",
       "      <td>119</td>\n",
       "      <td>119</td>\n",
       "    </tr>\n",
       "  </tbody>\n",
       "</table>\n",
       "</div>"
      ],
      "text/plain": [
       "                 PassengerId  Sex  Age  SibSp  Parch  Fare  Embarked\n",
       "Survived Pclass                                                     \n",
       "0        1                80   80   80     80     80    80        80\n",
       "         2                97   97   97     97     97    97        97\n",
       "         3               372  372  372    372    372   372       372\n",
       "1        1               136  136  136    136    136   136       136\n",
       "         2                87   87   87     87     87    87        87\n",
       "         3               119  119  119    119    119   119       119"
      ]
     },
     "execution_count": 99,
     "metadata": {},
     "output_type": "execute_result"
    }
   ],
   "source": [
    "titanic3.groupby(['Survived','Pclass']).count()"
   ]
  },
  {
   "cell_type": "markdown",
   "id": "02e973bc",
   "metadata": {},
   "source": [
    "### 4) titanic3으로부터 Age>70인 행만 추출하여 titanic4를 만들고, titanic으로부터 PassengerId와 Name만을 추출한 titanic4를 만들어 두 데이터프레임을 PassengerId를 키로 하여 내부조인하시오."
   ]
  },
  {
   "cell_type": "code",
   "execution_count": 100,
   "id": "c2b89e41",
   "metadata": {},
   "outputs": [],
   "source": [
    "titanic4 = titanic3.loc[titanic3.Age > 70]"
   ]
  },
  {
   "cell_type": "code",
   "execution_count": 101,
   "id": "b287a911",
   "metadata": {},
   "outputs": [],
   "source": [
    "titanic5 = titanic[['PassengerId', 'Name']]"
   ]
  },
  {
   "cell_type": "code",
   "execution_count": 102,
   "id": "9c8f9337",
   "metadata": {},
   "outputs": [
    {
     "data": {
      "text/html": [
       "<div>\n",
       "<style scoped>\n",
       "    .dataframe tbody tr th:only-of-type {\n",
       "        vertical-align: middle;\n",
       "    }\n",
       "\n",
       "    .dataframe tbody tr th {\n",
       "        vertical-align: top;\n",
       "    }\n",
       "\n",
       "    .dataframe thead th {\n",
       "        text-align: right;\n",
       "    }\n",
       "</style>\n",
       "<table border=\"1\" class=\"dataframe\">\n",
       "  <thead>\n",
       "    <tr style=\"text-align: right;\">\n",
       "      <th></th>\n",
       "      <th>PassengerId</th>\n",
       "      <th>Survived</th>\n",
       "      <th>Pclass</th>\n",
       "      <th>Sex</th>\n",
       "      <th>Age</th>\n",
       "      <th>SibSp</th>\n",
       "      <th>Parch</th>\n",
       "      <th>Fare</th>\n",
       "      <th>Embarked</th>\n",
       "      <th>Name</th>\n",
       "    </tr>\n",
       "  </thead>\n",
       "  <tbody>\n",
       "    <tr>\n",
       "      <th>0</th>\n",
       "      <td>97</td>\n",
       "      <td>0</td>\n",
       "      <td>1</td>\n",
       "      <td>male</td>\n",
       "      <td>71.0</td>\n",
       "      <td>0</td>\n",
       "      <td>0</td>\n",
       "      <td>34.6542</td>\n",
       "      <td>C</td>\n",
       "      <td>Goldschmidt, Mr. George B</td>\n",
       "    </tr>\n",
       "    <tr>\n",
       "      <th>1</th>\n",
       "      <td>117</td>\n",
       "      <td>0</td>\n",
       "      <td>3</td>\n",
       "      <td>male</td>\n",
       "      <td>70.5</td>\n",
       "      <td>0</td>\n",
       "      <td>0</td>\n",
       "      <td>7.7500</td>\n",
       "      <td>Q</td>\n",
       "      <td>Connors, Mr. Patrick</td>\n",
       "    </tr>\n",
       "    <tr>\n",
       "      <th>2</th>\n",
       "      <td>494</td>\n",
       "      <td>0</td>\n",
       "      <td>1</td>\n",
       "      <td>male</td>\n",
       "      <td>71.0</td>\n",
       "      <td>0</td>\n",
       "      <td>0</td>\n",
       "      <td>49.5042</td>\n",
       "      <td>C</td>\n",
       "      <td>Artagaveytia, Mr. Ramon</td>\n",
       "    </tr>\n",
       "    <tr>\n",
       "      <th>3</th>\n",
       "      <td>631</td>\n",
       "      <td>1</td>\n",
       "      <td>1</td>\n",
       "      <td>male</td>\n",
       "      <td>80.0</td>\n",
       "      <td>0</td>\n",
       "      <td>0</td>\n",
       "      <td>30.0000</td>\n",
       "      <td>S</td>\n",
       "      <td>Barkworth, Mr. Algernon Henry Wilson</td>\n",
       "    </tr>\n",
       "    <tr>\n",
       "      <th>4</th>\n",
       "      <td>852</td>\n",
       "      <td>0</td>\n",
       "      <td>3</td>\n",
       "      <td>male</td>\n",
       "      <td>74.0</td>\n",
       "      <td>0</td>\n",
       "      <td>0</td>\n",
       "      <td>7.7750</td>\n",
       "      <td>S</td>\n",
       "      <td>Svensson, Mr. Johan</td>\n",
       "    </tr>\n",
       "  </tbody>\n",
       "</table>\n",
       "</div>"
      ],
      "text/plain": [
       "   PassengerId  Survived  Pclass   Sex   Age  SibSp  Parch     Fare Embarked  \\\n",
       "0           97         0       1  male  71.0      0      0  34.6542        C   \n",
       "1          117         0       3  male  70.5      0      0   7.7500        Q   \n",
       "2          494         0       1  male  71.0      0      0  49.5042        C   \n",
       "3          631         1       1  male  80.0      0      0  30.0000        S   \n",
       "4          852         0       3  male  74.0      0      0   7.7750        S   \n",
       "\n",
       "                                   Name  \n",
       "0             Goldschmidt, Mr. George B  \n",
       "1                  Connors, Mr. Patrick  \n",
       "2               Artagaveytia, Mr. Ramon  \n",
       "3  Barkworth, Mr. Algernon Henry Wilson  \n",
       "4                   Svensson, Mr. Johan  "
      ]
     },
     "execution_count": 102,
     "metadata": {},
     "output_type": "execute_result"
    }
   ],
   "source": [
    "pd.merge(titanic4, titanic5, how='inner', on='PassengerId')"
   ]
  },
  {
   "cell_type": "markdown",
   "id": "0d33ed7f",
   "metadata": {},
   "source": [
    "# "
   ]
  },
  {
   "cell_type": "markdown",
   "id": "e5781ce3",
   "metadata": {},
   "source": [
    "## [C] Matplotlib"
   ]
  },
  {
   "cell_type": "markdown",
   "id": "e3643c62",
   "metadata": {},
   "source": [
    "### ThoraricSurgery.csv 파일은 폐암 수술 환자의 수술 전 진단 데이터(17개 : 종양의 유형, 폐활량, 호흡 곤란 여부, 고통 정도, 기침, 흡연, 천식 여부 등)와 수술 후 생존 결과(Risk1Yr)를 기록한 의료 기록 데이터이다. 파일을 읽어 데이터프레임을 생성한 후 아래 차트를 작성하시오."
   ]
  },
  {
   "cell_type": "code",
   "execution_count": 103,
   "id": "8ccf8e83",
   "metadata": {},
   "outputs": [],
   "source": [
    "ts = pd.read_csv('ThoraricSurgery.csv')"
   ]
  },
  {
   "cell_type": "markdown",
   "id": "92f0c9bb",
   "metadata": {},
   "source": [
    "### 1) AGE와 PRE4의 산점도"
   ]
  },
  {
   "cell_type": "code",
   "execution_count": 104,
   "id": "56ce4efe",
   "metadata": {},
   "outputs": [
    {
     "data": {
      "image/png": "[encoded data removed]",
      "text/plain": [
       "<Figure size 432x288 with 1 Axes>"
      ]
     },
     "metadata": {
      "needs_background": "light"
     },
     "output_type": "display_data"
    }
   ],
   "source": [
    "plt.scatter(ts.AGE, ts.PRE4)\n",
    "plt.xlabel('AGE')\n",
    "plt.ylabel('PRE4')\n",
    "plt.tight_layout()"
   ]
  },
  {
   "cell_type": "markdown",
   "id": "41bf36cf",
   "metadata": {},
   "source": [
    "### 2) AGE에 대한 히스토그램(#1:디폴트, #2:bins 설정(10대, 20대, ..., 90대))"
   ]
  },
  {
   "cell_type": "code",
   "execution_count": 105,
   "id": "498c0320",
   "metadata": {},
   "outputs": [
    {
     "data": {
      "image/png": "[encoded data removed]",
      "text/plain": [
       "<Figure size 936x360 with 2 Axes>"
      ]
     },
     "metadata": {
      "needs_background": "light"
     },
     "output_type": "display_data"
    }
   ],
   "source": [
    "plt.figure(figsize=(13, 5))\n",
    "\n",
    "plt.subplot(1, 2, 1)\n",
    "plt.hist(ts.AGE, color='violet')\n",
    "plt.title('Histogram of AGE #1')\n",
    "plt.xlabel('AGE')\n",
    "plt.ylabel('frequency')\n",
    "\n",
    "plt.subplot(1, 2, 2)\n",
    "plt.hist(ts.AGE, color='violet', bins=7)\n",
    "plt.xlim((0, 100))\n",
    "plt.ylim((0, 200))\n",
    "plt.title('Histogram of AGE #2')\n",
    "plt.xlabel('AGE')\n",
    "plt.ylabel('frequency')\n",
    "\n",
    "plt.tight_layout()"
   ]
  },
  {
   "cell_type": "markdown",
   "id": "42fa420d",
   "metadata": {},
   "source": [
    "### 3) Risk1Yr에 대한 파이차트(pie chart)"
   ]
  },
  {
   "cell_type": "code",
   "execution_count": 106,
   "id": "0a78605b",
   "metadata": {},
   "outputs": [
    {
     "data": {
      "image/png": "[encoded data removed]",
      "text/plain": [
       "<Figure size 432x288 with 1 Axes>"
      ]
     },
     "metadata": {},
     "output_type": "display_data"
    }
   ],
   "source": [
    "ts['Risk1Yr'].value_counts().plot(kind='pie', autopct=\"%.1f%%\")\n",
    "plt.show()"
   ]
  },
  {
   "cell_type": "markdown",
   "id": "d0a80b0d",
   "metadata": {},
   "source": [
    "### 4) PRE14별 PRE5 평균의 막대그래프(bar chart)"
   ]
  },
  {
   "cell_type": "code",
   "execution_count": 108,
   "id": "ff5f3cd5",
   "metadata": {},
   "outputs": [
    {
     "data": {
      "image/png": "[encoded data removed]",
      "text/plain": [
       "<Figure size 432x288 with 1 Axes>"
      ]
     },
     "metadata": {
      "needs_background": "light"
     },
     "output_type": "display_data"
    }
   ],
   "source": [
    "AoP = ts.groupby('PRE14').PRE5.mean()\n",
    "\n",
    "label = [\"OC11\", \"OC12\", \"OC13\", \"OC14\"]\n",
    "index = np.arange(len(label))\n",
    "\n",
    "plt.bar(index, AoP, color=\"orange\")\n",
    "plt.xticks(index, label)\n",
    "\n",
    "plt.xlabel(\"PRE14\")\n",
    "plt.ylabel(\"Average of PRES\")\n",
    "\n",
    "plt.show()"
   ]
  },
  {
   "cell_type": "code",
   "execution_count": null,
   "id": "4718a3d3",
   "metadata": {},
   "outputs": [],
   "source": []
  }
 ],
 "metadata": {
  "kernelspec": {
   "display_name": "Python 3",
   "language": "python",
   "name": "python3"
  },
  "language_info": {
   "codemirror_mode": {
    "name": "ipython",
    "version": 3
   },
   "file_extension": ".py",
   "mimetype": "text/x-python",
   "name": "python",
   "nbconvert_exporter": "python",
   "pygments_lexer": "ipython3",
   "version": "3.8.8"
  }
 },
 "nbformat": 4,
 "nbformat_minor": 5
}

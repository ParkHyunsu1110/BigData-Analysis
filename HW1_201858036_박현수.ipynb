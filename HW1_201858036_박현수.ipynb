{
 "cells": [
  {
   "cell_type": "markdown",
   "id": "059b856b",
   "metadata": {},
   "source": [
    "# 컴퓨터공학부 201858036 박현수"
   ]
  },
  {
   "cell_type": "markdown",
   "id": "0c520527",
   "metadata": {},
   "source": [
    "## <과제 #1 : Python>"
   ]
  },
  {
   "cell_type": "markdown",
   "id": "7b1daebb",
   "metadata": {},
   "source": [
    "### [1]"
   ]
  },
  {
   "cell_type": "code",
   "execution_count": 11,
   "id": "0ca20407",
   "metadata": {},
   "outputs": [],
   "source": [
    "def unzip(data):\n",
    "    # '*'은 Unpacking Operator이다.\n",
    "    a, b = zip(*data)\n",
    "    return list(a), list(b)"
   ]
  },
  {
   "cell_type": "code",
   "execution_count": 12,
   "id": "bd00617e",
   "metadata": {},
   "outputs": [
    {
     "name": "stdout",
     "output_type": "stream",
     "text": [
      "[3, 2.1, 9.3, 4, -2]\n",
      "[6, 5, 10, 2, 7]\n"
     ]
    }
   ],
   "source": [
    "data = [(3, 6), (2.1, 5), (9.3, 10), (4, 2), (-2, 7)]\n",
    "x, y = unzip(data)\n",
    "print(x)\n",
    "print(y)"
   ]
  },
  {
   "cell_type": "markdown",
   "id": "34b829b2",
   "metadata": {},
   "source": [
    "### [2] "
   ]
  },
  {
   "cell_type": "code",
   "execution_count": 13,
   "id": "60279b2e",
   "metadata": {},
   "outputs": [],
   "source": [
    "# keyword를 사용하기 위해 사용.\n",
    "import keyword\n",
    "\n",
    "# 파일을 읽은 후 키워드의 빈도수를 체크해, 빈도수 순서로 리스트를 출력하는 함수\n",
    "def keyword_count(filename):\n",
    "    \n",
    "    # 인수로 들어온 파일을 읽어 옴\n",
    "    infile = open(filename, 'r')  \n",
    "    \n",
    "    # 파일 전처리 과정( 내부 코드의 ':'를 ' '로 변경)\n",
    "    contentByWord = infile.read().replace(':', ' ').split(\" \") \n",
    "    \n",
    "    # 카운팅할 변수 초기화\n",
    "    numOfKeywords=0\n",
    "    \n",
    "    # 키워드의 키와 밸류가 들어갈 딕셔너리 생성\n",
    "    keyDict = {}\n",
    "\n",
    "    # 반복문을 통해 파일로 부터 읽은 각 줄에 대하여 반복함\n",
    "    for word in contentByWord:\n",
    "        # 파이썬 키워드들을 set으로 저장.\n",
    "        # 조건에서 셋의 키워드들과, 단어가 서로 맞는지 확인함.\n",
    "        if word in set(keyword.kwlist):\n",
    "            # 딕셔너리에 키 값이 있으면 밸류 값을 1씩 추가\n",
    "            keyDict[word] = keyDict.get(word, 0) + 1\n",
    "    \n",
    "    # 키 딕셔너리를 밸류 값의 내림차순으로 정렬한다.\n",
    "    # 이 경우, reverse를 True로 설정한다.\n",
    "    keyDict = sorted(keyDict.items(), key= lambda x : x[1], reverse=True)\n",
    "    \n",
    "    # 딕셔너리를 sorted를 사용하여 리스트 형태로 반환한다.\n",
    "    return keyDict"
   ]
  },
  {
   "cell_type": "code",
   "execution_count": 14,
   "id": "00f381f8",
   "metadata": {},
   "outputs": [
    {
     "name": "stdout",
     "output_type": "stream",
     "text": [
      "[('def', 36), ('return', 17), ('in', 16), ('if', 13), ('for', 10), ('import', 6), ('as', 6), ('and', 6), ('not', 5), ('raise', 5), ('is', 5), ('with', 4), ('from', 3), ('else', 3), ('None', 2), ('assert', 1), ('yield', 1), ('try', 1), ('except', 1), ('del', 1)]\n"
     ]
    }
   ],
   "source": [
    "print(keyword_count('C:\\\\Users\\\\hyunsu\\\\Documents\\\\BigDataAnalysis\\\\mystery.py'))"
   ]
  },
  {
   "cell_type": "markdown",
   "id": "c470753c",
   "metadata": {},
   "source": [
    "### [3]"
   ]
  },
  {
   "cell_type": "code",
   "execution_count": 15,
   "id": "b8444eba",
   "metadata": {},
   "outputs": [],
   "source": [
    "import math\n",
    "class RegularPolygon:\n",
    "    \"\"\"\n",
    "    정다각형(등변 & 등각)\n",
    "    \n",
    "    Parameters\n",
    "    ----------\n",
    "    n : int, default : 3\n",
    "    s : float, default : 1.0\n",
    "    \"\"\"\n",
    "    # 생성자.\n",
    "    # n의 기본값 = 3\n",
    "    # s의 기본값 = 1.0\n",
    "    def __init__(self, n = 3, s = 1.0):\n",
    "        self.__number = n # 변의 갯수 \n",
    "        self.__side = s # 변의 길이\n",
    "    \n",
    "    # 접근자(n)\n",
    "    def get_number(self):\n",
    "        return self.__num\n",
    "    \n",
    "    # 접근자(s)   \n",
    "    def get_number(self):\n",
    "        return self.__side\n",
    "    \n",
    "    # 변경자(n)\n",
    "    def set_number(self, n):\n",
    "        self.__number = n\n",
    "     \n",
    "    # 변경자(s)\n",
    "    def set_side(self, s):\n",
    "        self.__side = s\n",
    "    \n",
    "    # 내각을 구하는 메소드\n",
    "    def getIntAngle(self):\n",
    "        return 180 * (self.__number - 2) / self.__number\n",
    "    \n",
    "    # 둘레를 구하는 메소드\n",
    "    def getPerimeter(self):\n",
    "        return self.__side * self.__number\n",
    "    \n",
    "    # 면적을 구하는 메소드\n",
    "    def getArea(self):\n",
    "        return (self.__number * (self.__side ** 2)) / ( 4 * math.tan(math.pi / self.__number))\n",
    "    \n",
    "    # 전체를 출력해 주는 메소드\n",
    "    def printAll(self):\n",
    "        print(\"변의 개수 = \", self.__number)\n",
    "        print(\"변의 길이 = \", self.__side)\n",
    "        print(\"내각 = \", self.getIntAngle(), \"도\")\n",
    "        print(\"둘레 = \", self.getPerimeter())\n",
    "        print(\"면적 = \", self.getArea())"
   ]
  },
  {
   "cell_type": "code",
   "execution_count": 16,
   "id": "a6d11a1b",
   "metadata": {},
   "outputs": [],
   "source": [
    "# DocString 출력\n",
    "RegularPolygon?"
   ]
  },
  {
   "cell_type": "code",
   "execution_count": 17,
   "id": "0453d45f",
   "metadata": {},
   "outputs": [
    {
     "name": "stdout",
     "output_type": "stream",
     "text": [
      "변의 개수 =  6\n",
      "변의 길이 =  3\n",
      "내각 =  120.0 도\n",
      "둘레 =  18\n",
      "면적 =  23.382685902179844\n"
     ]
    }
   ],
   "source": [
    "# (a)\n",
    "RegularPolygon(6, 3).printAll()"
   ]
  },
  {
   "cell_type": "code",
   "execution_count": 18,
   "id": "fcca9ec7",
   "metadata": {},
   "outputs": [
    {
     "name": "stdout",
     "output_type": "stream",
     "text": [
      "변의 개수 =  4\n",
      "변의 길이 =  1.0\n",
      "내각 =  90.0 도\n",
      "둘레 =  4.0\n",
      "면적 =  1.0000000000000002\n"
     ]
    }
   ],
   "source": [
    "# (b)\n",
    "RegularPolygon(4).printAll()"
   ]
  },
  {
   "cell_type": "code",
   "execution_count": 19,
   "id": "badddb3f",
   "metadata": {},
   "outputs": [
    {
     "name": "stdout",
     "output_type": "stream",
     "text": [
      "변의 개수 =  3\n",
      "변의 길이 =  5\n",
      "내각 =  60.0 도\n",
      "둘레 =  15\n",
      "면적 =  10.825317547305486\n"
     ]
    }
   ],
   "source": [
    "# (c)\n",
    "rg = RegularPolygon()\n",
    "rg.set_side(5)\n",
    "rg.printAll()"
   ]
  }
 ],
 "metadata": {
  "kernelspec": {
   "display_name": "Python 3",
   "language": "python",
   "name": "python3"
  },
  "language_info": {
   "codemirror_mode": {
    "name": "ipython",
    "version": 3
   },
   "file_extension": ".py",
   "mimetype": "text/x-python",
   "name": "python",
   "nbconvert_exporter": "python",
   "pygments_lexer": "ipython3",
   "version": "3.8.8"
  }
 },
 "nbformat": 4,
 "nbformat_minor": 5
}

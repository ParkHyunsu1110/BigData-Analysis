{
 "cells": [
  {
   "cell_type": "code",
   "execution_count": 1,
   "id": "0e6e7144",
   "metadata": {},
   "outputs": [],
   "source": [
    "import tensorflow as tf"
   ]
  },
  {
   "cell_type": "code",
   "execution_count": 2,
   "id": "414341d0",
   "metadata": {},
   "outputs": [],
   "source": [
    "t = tf.convert_to_tensor([[1, 2, 3], [4, 5, 6]])"
   ]
  },
  {
   "cell_type": "code",
   "execution_count": 3,
   "id": "fb2069f6",
   "metadata": {},
   "outputs": [
    {
     "data": {
      "text/plain": [
       "<tf.Tensor: shape=(2, 3), dtype=int32, numpy=\n",
       "array([[1, 2, 3],\n",
       "       [4, 5, 6]])>"
      ]
     },
     "execution_count": 3,
     "metadata": {},
     "output_type": "execute_result"
    }
   ],
   "source": [
    "t"
   ]
  },
  {
   "cell_type": "code",
   "execution_count": 4,
   "id": "c1380f28",
   "metadata": {},
   "outputs": [
    {
     "data": {
      "text/plain": [
       "array([[1, 2, 3],\n",
       "       [4, 5, 6]])"
      ]
     },
     "execution_count": 4,
     "metadata": {},
     "output_type": "execute_result"
    }
   ],
   "source": [
    "t.numpy()"
   ]
  },
  {
   "cell_type": "code",
   "execution_count": 5,
   "id": "13a9c203",
   "metadata": {},
   "outputs": [],
   "source": [
    "t_float = tf.cast(t, dtype=tf.float32)"
   ]
  },
  {
   "cell_type": "code",
   "execution_count": 6,
   "id": "0ece88b2",
   "metadata": {},
   "outputs": [
    {
     "data": {
      "text/plain": [
       "<tf.Tensor: shape=(2, 3), dtype=float32, numpy=\n",
       "array([[1., 2., 3.],\n",
       "       [4., 5., 6.]], dtype=float32)>"
      ]
     },
     "execution_count": 6,
     "metadata": {},
     "output_type": "execute_result"
    }
   ],
   "source": [
    "t_float"
   ]
  },
  {
   "cell_type": "code",
   "execution_count": 7,
   "id": "679efa62",
   "metadata": {},
   "outputs": [],
   "source": [
    "ds = tf.data.Dataset.from_tensor_slices([5, 2, 7, 9, 3])"
   ]
  },
  {
   "cell_type": "code",
   "execution_count": 8,
   "id": "e00a2b43",
   "metadata": {},
   "outputs": [
    {
     "data": {
      "text/plain": [
       "<TensorSliceDataset shapes: (), types: tf.int32>"
      ]
     },
     "execution_count": 8,
     "metadata": {},
     "output_type": "execute_result"
    }
   ],
   "source": [
    "ds"
   ]
  },
  {
   "cell_type": "code",
   "execution_count": 9,
   "id": "1d94b93f",
   "metadata": {},
   "outputs": [
    {
     "name": "stdout",
     "output_type": "stream",
     "text": [
      "tf.Tensor(5, shape=(), dtype=int32)\n",
      "tf.Tensor(2, shape=(), dtype=int32)\n",
      "tf.Tensor(7, shape=(), dtype=int32)\n",
      "tf.Tensor(9, shape=(), dtype=int32)\n",
      "tf.Tensor(3, shape=(), dtype=int32)\n"
     ]
    }
   ],
   "source": [
    "for ex in ds:\n",
    "3    print(ex)"
   ]
  },
  {
   "cell_type": "code",
   "execution_count": 10,
   "id": "f761e4dc",
   "metadata": {},
   "outputs": [],
   "source": [
    "#지도학습 : 특성행렬, 레이블 벡터"
   ]
  },
  {
   "cell_type": "code",
   "execution_count": 11,
   "id": "824fe0be",
   "metadata": {},
   "outputs": [],
   "source": [
    "#두 개의 데이터셋을 하나의 데이터셋으로 연결하기 : X에 Y 붙이기\n",
    "X = tf.data.Dataset.from_tensor_slices([[1, 2, 3], [9, 9, 9]])"
   ]
  },
  {
   "cell_type": "code",
   "execution_count": 12,
   "id": "2e094446",
   "metadata": {},
   "outputs": [],
   "source": [
    "y = tf.data.Dataset.from_tensor_slices([0, 1, 0])"
   ]
  },
  {
   "cell_type": "code",
   "execution_count": 13,
   "id": "3fe1a2e6",
   "metadata": {},
   "outputs": [],
   "source": [
    "my_ds = tf.data.Dataset.zip((X, y))"
   ]
  },
  {
   "cell_type": "code",
   "execution_count": 14,
   "id": "181eaa65",
   "metadata": {},
   "outputs": [
    {
     "data": {
      "text/plain": [
       "<ZipDataset shapes: ((3,), ()), types: (tf.int32, tf.int32)>"
      ]
     },
     "execution_count": 14,
     "metadata": {},
     "output_type": "execute_result"
    }
   ],
   "source": [
    "my_ds"
   ]
  },
  {
   "cell_type": "code",
   "execution_count": 15,
   "id": "37261c6f",
   "metadata": {},
   "outputs": [
    {
     "name": "stdout",
     "output_type": "stream",
     "text": [
      "(<tf.Tensor: shape=(3,), dtype=int32, numpy=array([1, 2, 3])>, <tf.Tensor: shape=(), dtype=int32, numpy=0>)\n",
      "(<tf.Tensor: shape=(3,), dtype=int32, numpy=array([9, 9, 9])>, <tf.Tensor: shape=(), dtype=int32, numpy=1>)\n"
     ]
    }
   ],
   "source": [
    "for ex in my_ds:\n",
    "    print(ex)"
   ]
  },
  {
   "cell_type": "code",
   "execution_count": 17,
   "id": "4e3d3e79",
   "metadata": {},
   "outputs": [
    {
     "name": "stdout",
     "output_type": "stream",
     "text": [
      "[1 2 3] 0\n",
      "[9 9 9] 1\n"
     ]
    }
   ],
   "source": [
    "for ex in my_ds:\n",
    "    print(ex[0].numpy(), ex[1].numpy())"
   ]
  },
  {
   "cell_type": "code",
   "execution_count": null,
   "id": "3d2a93d0",
   "metadata": {},
   "outputs": [],
   "source": []
  }
 ],
 "metadata": {
  "kernelspec": {
   "display_name": "Python 3",
   "language": "python",
   "name": "python3"
  },
  "language_info": {
   "codemirror_mode": {
    "name": "ipython",
    "version": 3
   },
   "file_extension": ".py",
   "mimetype": "text/x-python",
   "name": "python",
   "nbconvert_exporter": "python",
   "pygments_lexer": "ipython3",
   "version": "3.8.8"
  }
 },
 "nbformat": 4,
 "nbformat_minor": 5
}

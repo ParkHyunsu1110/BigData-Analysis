{
 "cells": [
  {
   "cell_type": "code",
   "execution_count": 1,
   "id": "b2b70bea",
   "metadata": {},
   "outputs": [],
   "source": [
    "import tensorflow  as tf"
   ]
  },
  {
   "cell_type": "code",
   "execution_count": 6,
   "id": "cab508af",
   "metadata": {},
   "outputs": [],
   "source": [
    "(X_train, y_train), (X_test, y_test) = tf.keras.datasets.fashion_mnist.load_data()"
   ]
  },
  {
   "cell_type": "code",
   "execution_count": 7,
   "id": "bdc5d434",
   "metadata": {},
   "outputs": [
    {
     "data": {
      "text/plain": [
       "(60000, 28, 28)"
      ]
     },
     "execution_count": 7,
     "metadata": {},
     "output_type": "execute_result"
    }
   ],
   "source": [
    "X_train.shape"
   ]
  },
  {
   "cell_type": "code",
   "execution_count": 8,
   "id": "82a1cf59",
   "metadata": {},
   "outputs": [
    {
     "data": {
      "text/plain": [
       "array([9, 0, 0, 3, 0, 2, 7, 2, 5, 5], dtype=uint8)"
      ]
     },
     "execution_count": 8,
     "metadata": {},
     "output_type": "execute_result"
    }
   ],
   "source": [
    "y_train[:10]"
   ]
  },
  {
   "cell_type": "code",
   "execution_count": 9,
   "id": "16122e81",
   "metadata": {},
   "outputs": [],
   "source": [
    "X_train = X_train / 255.0 # (0~255) => (0.0, 1.0)"
   ]
  },
  {
   "cell_type": "code",
   "execution_count": 10,
   "id": "2ac3b540",
   "metadata": {},
   "outputs": [],
   "source": [
    "X_test = X_test / 255.0"
   ]
  },
  {
   "cell_type": "code",
   "execution_count": 11,
   "id": "3fc685fc",
   "metadata": {},
   "outputs": [],
   "source": [
    "# MLP : 입력층 => 은닉층1(300) -> 은닉층2(100) -> 출력층(10)\n",
    "model = tf.keras.models.Sequential([\n",
    "    tf.keras.layers.Flatten(input_shape=[28,28]),\n",
    "    tf.keras.layers.Dense(300, activation='relu'),\n",
    "    tf.keras.layers.Dense(100, activation='relu'), \n",
    "    tf.keras.layers.Dense(10, activation='softmax')\n",
    "])"
   ]
  },
  {
   "cell_type": "code",
   "execution_count": 12,
   "id": "72788dfb",
   "metadata": {},
   "outputs": [],
   "source": [
    "#모형 컴파일 : 비용(손실)함수, 최적화 알고리즘, 지표를 설정\n",
    "model.compile(loss='sparse_categorical_crossentropy',\n",
    "             optimizer='sgd',\n",
    "             metrics = ['accuracy'])"
   ]
  },
  {
   "cell_type": "code",
   "execution_count": 13,
   "id": "60603a0e",
   "metadata": {},
   "outputs": [
    {
     "name": "stdout",
     "output_type": "stream",
     "text": [
      "Epoch 1/10\n",
      "1688/1688 [==============================] - 4s 2ms/step - loss: 0.7143 - accuracy: 0.7655 - val_loss: 0.5204 - val_accuracy: 0.8177\n",
      "Epoch 2/10\n",
      "1688/1688 [==============================] - 4s 2ms/step - loss: 0.4863 - accuracy: 0.8311 - val_loss: 0.4604 - val_accuracy: 0.8337\n",
      "Epoch 3/10\n",
      "1688/1688 [==============================] - 4s 2ms/step - loss: 0.4406 - accuracy: 0.8465 - val_loss: 0.4499 - val_accuracy: 0.8377\n",
      "Epoch 4/10\n",
      "1688/1688 [==============================] - 4s 2ms/step - loss: 0.4137 - accuracy: 0.8564 - val_loss: 0.4166 - val_accuracy: 0.8543\n",
      "Epoch 5/10\n",
      "1688/1688 [==============================] - 4s 2ms/step - loss: 0.3954 - accuracy: 0.8616 - val_loss: 0.4034 - val_accuracy: 0.8592\n",
      "Epoch 6/10\n",
      "1688/1688 [==============================] - 4s 2ms/step - loss: 0.3791 - accuracy: 0.8674 - val_loss: 0.4483 - val_accuracy: 0.8387\n",
      "Epoch 7/10\n",
      "1688/1688 [==============================] - 4s 2ms/step - loss: 0.3652 - accuracy: 0.8713 - val_loss: 0.3825 - val_accuracy: 0.8660\n",
      "Epoch 8/10\n",
      "1688/1688 [==============================] - 4s 2ms/step - loss: 0.3540 - accuracy: 0.8757 - val_loss: 0.3787 - val_accuracy: 0.8623\n",
      "Epoch 9/10\n",
      "1688/1688 [==============================] - 4s 2ms/step - loss: 0.3438 - accuracy: 0.8777 - val_loss: 0.3710 - val_accuracy: 0.8702\n",
      "Epoch 10/10\n",
      "1688/1688 [==============================] - 4s 2ms/step - loss: 0.3332 - accuracy: 0.8819 - val_loss: 0.3624 - val_accuracy: 0.8720\n"
     ]
    }
   ],
   "source": [
    "history = model.fit(X_train, y_train, epochs=10, validation_split=0.1)"
   ]
  },
  {
   "cell_type": "code",
   "execution_count": 14,
   "id": "6d698a62",
   "metadata": {},
   "outputs": [],
   "source": [
    "import pandas as pd"
   ]
  },
  {
   "cell_type": "code",
   "execution_count": 15,
   "id": "2f3ee699",
   "metadata": {},
   "outputs": [
    {
     "data": {
      "text/plain": [
       "<AxesSubplot:>"
      ]
     },
     "execution_count": 15,
     "metadata": {},
     "output_type": "execute_result"
    },
    {
     "data": {
      "image/png": "[encoded data removed]",
      "text/plain": [
       "<Figure size 432x288 with 1 Axes>"
      ]
     },
     "metadata": {
      "needs_background": "light"
     },
     "output_type": "display_data"
    }
   ],
   "source": [
    "pd.DataFrame(history.history).plot()"
   ]
  },
  {
   "cell_type": "code",
   "execution_count": 16,
   "id": "62b448a0",
   "metadata": {},
   "outputs": [
    {
     "data": {
      "text/plain": [
       "array([[5.1227529e-05, 1.6895205e-05, 1.9942285e-05, 2.6150790e-05,\n",
       "        3.2832551e-05, 5.3882238e-02, 8.7301167e-05, 9.4899826e-02,\n",
       "        2.7713142e-03, 8.4821224e-01],\n",
       "       [2.2680085e-04, 7.6862199e-07, 9.5393753e-01, 2.7864420e-05,\n",
       "        4.0406357e-03, 9.5071628e-10, 4.1762948e-02, 3.2514927e-10,\n",
       "        3.5268783e-06, 2.0654281e-09],\n",
       "       [7.5013268e-05, 9.9988842e-01, 3.6059796e-06, 1.7814324e-05,\n",
       "        1.2780969e-05, 1.3328823e-10, 4.3960125e-07, 3.5550528e-07,\n",
       "        1.6309198e-06, 4.0906154e-09]], dtype=float32)"
      ]
     },
     "execution_count": 16,
     "metadata": {},
     "output_type": "execute_result"
    }
   ],
   "source": [
    "model.predict(X_test[:3])"
   ]
  },
  {
   "cell_type": "code",
   "execution_count": 17,
   "id": "8b54cda4",
   "metadata": {},
   "outputs": [],
   "source": [
    "import numpy as np"
   ]
  },
  {
   "cell_type": "code",
   "execution_count": 18,
   "id": "d2e3aa57",
   "metadata": {},
   "outputs": [
    {
     "data": {
      "text/plain": [
       "array([9, 2, 1], dtype=int64)"
      ]
     },
     "execution_count": 18,
     "metadata": {},
     "output_type": "execute_result"
    }
   ],
   "source": [
    "np.argmax(model.predict(X_test[:3]), axis=1)"
   ]
  },
  {
   "cell_type": "code",
   "execution_count": 19,
   "id": "b33a4aa0",
   "metadata": {},
   "outputs": [
    {
     "data": {
      "text/plain": [
       "array([9, 2, 1], dtype=uint8)"
      ]
     },
     "execution_count": 19,
     "metadata": {},
     "output_type": "execute_result"
    }
   ],
   "source": [
    "y_test[:3]"
   ]
  },
  {
   "cell_type": "code",
   "execution_count": 20,
   "id": "4e016711",
   "metadata": {},
   "outputs": [
    {
     "name": "stdout",
     "output_type": "stream",
     "text": [
      "313/313 [==============================] - 1s 2ms/step - loss: 0.3819 - accuracy: 0.8632\n"
     ]
    },
    {
     "data": {
      "text/plain": [
       "[0.38187307119369507, 0.8632000088691711]"
      ]
     },
     "execution_count": 20,
     "metadata": {},
     "output_type": "execute_result"
    }
   ],
   "source": [
    "model.evaluate(X_test, y_test)"
   ]
  },
  {
   "cell_type": "code",
   "execution_count": 21,
   "id": "2566eeb3",
   "metadata": {},
   "outputs": [],
   "source": [
    "p = np.argmax(model.predict(X_test), axis=1)"
   ]
  },
  {
   "cell_type": "code",
   "execution_count": 22,
   "id": "078b53ef",
   "metadata": {},
   "outputs": [],
   "source": [
    "from sklearn.metrics import confusion_matrix"
   ]
  },
  {
   "cell_type": "code",
   "execution_count": 23,
   "id": "4224b20c",
   "metadata": {},
   "outputs": [
    {
     "data": {
      "text/plain": [
       "array([[792,   0,   7,  42,   3,   2, 146,   0,   8,   0],\n",
       "       [  3, 961,   1,  26,   3,   0,   5,   0,   1,   0],\n",
       "       [ 14,   1, 735,  21,  93,   1, 132,   0,   3,   0],\n",
       "       [ 17,  10,   2, 912,  15,   0,  40,   0,   4,   0],\n",
       "       [  0,   1,  83,  59, 736,   1, 115,   0,   5,   0],\n",
       "       [  0,   0,   0,   1,   0, 951,   0,  35,   1,  12],\n",
       "       [115,   1,  66,  43,  53,   1, 709,   0,  12,   0],\n",
       "       [  0,   0,   0,   0,   0,  29,   0, 946,   0,  25],\n",
       "       [  3,   2,   6,  10,   5,   3,  18,   6, 947,   0],\n",
       "       [  0,   0,   0,   0,   0,  12,   1,  44,   0, 943]], dtype=int64)"
      ]
     },
     "execution_count": 23,
     "metadata": {},
     "output_type": "execute_result"
    }
   ],
   "source": [
    "confusion_matrix(y_test, p)"
   ]
  },
  {
   "cell_type": "code",
   "execution_count": null,
   "id": "dea5afea",
   "metadata": {},
   "outputs": [],
   "source": []
  }
 ],
 "metadata": {
  "kernelspec": {
   "display_name": "Python 3",
   "language": "python",
   "name": "python3"
  },
  "language_info": {
   "codemirror_mode": {
    "name": "ipython",
    "version": 3
   },
   "file_extension": ".py",
   "mimetype": "text/x-python",
   "name": "python",
   "nbconvert_exporter": "python",
   "pygments_lexer": "ipython3",
   "version": "3.8.8"
  }
 },
 "nbformat": 4,
 "nbformat_minor": 5
}

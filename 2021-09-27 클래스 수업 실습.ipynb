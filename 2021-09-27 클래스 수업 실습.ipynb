{
 "cells": [
  {
   "cell_type": "code",
   "execution_count": 18,
   "id": "fd83febd",
   "metadata": {},
   "outputs": [],
   "source": [
    "import math\n",
    "class Circle:\n",
    "    def __init__(self, r):\n",
    "        self.radius = r # radius : 반지름, 기본 형태는 public 이며, private으로 사용하기 위해서는 self.__radius로 작성한다.\n",
    "    def get_radius(self):\n",
    "        return self.radius\n",
    "    def getArea(self):\n",
    "        return math.pi * self.radius ** 2 # 3.141592 * self.radius ** 2\n",
    "    def __le__(self, other):\n",
    "        return self.radius <= other.radius"
   ]
  },
  {
   "cell_type": "code",
   "execution_count": 15,
   "id": "883f636d",
   "metadata": {},
   "outputs": [],
   "source": [
    "my_circle = Circle(5.) # 5.0 == 5."
   ]
  },
  {
   "cell_type": "code",
   "execution_count": 16,
   "id": "783ce0f3",
   "metadata": {},
   "outputs": [
    {
     "data": {
      "text/plain": [
       "5.0"
      ]
     },
     "execution_count": 16,
     "metadata": {},
     "output_type": "execute_result"
    }
   ],
   "source": [
    "my_circle.get_radius() # my_circle.radius"
   ]
  },
  {
   "cell_type": "code",
   "execution_count": 19,
   "id": "c85bc736",
   "metadata": {},
   "outputs": [
    {
     "data": {
      "text/plain": [
       "78.53981633974483"
      ]
     },
     "execution_count": 19,
     "metadata": {},
     "output_type": "execute_result"
    }
   ],
   "source": [
    "my_circle.getArea()"
   ]
  },
  {
   "cell_type": "code",
   "execution_count": 20,
   "id": "2ae260e1",
   "metadata": {},
   "outputs": [
    {
     "data": {
      "text/plain": [
       "False"
      ]
     },
     "execution_count": 20,
     "metadata": {},
     "output_type": "execute_result"
    }
   ],
   "source": [
    "c1 = Circle(5.5)\n",
    "c2 = Circle(2.3)\n",
    "c1 <= c2 # 예상 답: False"
   ]
  },
  {
   "cell_type": "code",
   "execution_count": 21,
   "id": "bb22aec2",
   "metadata": {},
   "outputs": [
    {
     "data": {
      "text/plain": [
       "True"
      ]
     },
     "execution_count": 21,
     "metadata": {},
     "output_type": "execute_result"
    }
   ],
   "source": [
    "c2 <= c1 # 예상 답 : True"
   ]
  },
  {
   "cell_type": "code",
   "execution_count": 22,
   "id": "23ed63d1",
   "metadata": {},
   "outputs": [],
   "source": [
    "# __le__의 경우 c2 < c1은 사용할 수 없음."
   ]
  }
 ],
 "metadata": {
  "kernelspec": {
   "display_name": "Python 3",
   "language": "python",
   "name": "python3"
  },
  "language_info": {
   "codemirror_mode": {
    "name": "ipython",
    "version": 3
   },
   "file_extension": ".py",
   "mimetype": "text/x-python",
   "name": "python",
   "nbconvert_exporter": "python",
   "pygments_lexer": "ipython3",
   "version": "3.8.8"
  }
 },
 "nbformat": 4,
 "nbformat_minor": 5
}

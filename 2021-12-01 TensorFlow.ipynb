{
 "cells": [
  {
   "cell_type": "code",
   "execution_count": 1,
   "id": "598132a9",
   "metadata": {},
   "outputs": [],
   "source": [
    "import numpy as np\n",
    "import tensorflow as tf"
   ]
  },
  {
   "cell_type": "code",
   "execution_count": 2,
   "id": "70ca4527",
   "metadata": {},
   "outputs": [],
   "source": [
    "ds_x = tf.data.Dataset.from_tensor_slices([[1, 2],[3, 4], [5, 6], [7, 8], [9, 10.0]])"
   ]
  },
  {
   "cell_type": "code",
   "execution_count": 3,
   "id": "55a55fc7",
   "metadata": {},
   "outputs": [],
   "source": [
    "ds_y = tf.data.Dataset.from_tensor_slices([0, 1, 2, 3, 4])"
   ]
  },
  {
   "cell_type": "code",
   "execution_count": 4,
   "id": "f7d10d74",
   "metadata": {},
   "outputs": [],
   "source": [
    "ds_joint = tf.data.Dataset.zip((ds_x, ds_y))"
   ]
  },
  {
   "cell_type": "code",
   "execution_count": 5,
   "id": "0caeb0d9",
   "metadata": {},
   "outputs": [],
   "source": [
    "def display(d):\n",
    "    for ex in d:\n",
    "        print(ex[0].numpy(), ex[1].numpy())"
   ]
  },
  {
   "cell_type": "code",
   "execution_count": 6,
   "id": "47cd11a4",
   "metadata": {},
   "outputs": [
    {
     "name": "stdout",
     "output_type": "stream",
     "text": [
      "[1. 2.] 0\n",
      "[3. 4.] 1\n",
      "[5. 6.] 2\n",
      "[7. 8.] 3\n",
      "[ 9. 10.] 4\n"
     ]
    }
   ],
   "source": [
    "display(ds_joint)"
   ]
  },
  {
   "cell_type": "code",
   "execution_count": 7,
   "id": "a416dcf3",
   "metadata": {},
   "outputs": [],
   "source": [
    "ds_map = ds_joint.map(lambda x, y: (x/10.0, y))"
   ]
  },
  {
   "cell_type": "code",
   "execution_count": 8,
   "id": "7a99d9d3",
   "metadata": {},
   "outputs": [
    {
     "name": "stdout",
     "output_type": "stream",
     "text": [
      "[0.1 0.2] 0\n",
      "[0.3 0.4] 1\n",
      "[0.5 0.6] 2\n",
      "[0.7 0.8] 3\n",
      "[0.9 1. ] 4\n"
     ]
    }
   ],
   "source": [
    "display(ds_map)"
   ]
  },
  {
   "cell_type": "code",
   "execution_count": 9,
   "id": "df6566fa",
   "metadata": {},
   "outputs": [],
   "source": [
    "ds = ds_map.shuffle(buffer_size=100)"
   ]
  },
  {
   "cell_type": "code",
   "execution_count": 10,
   "id": "989124ce",
   "metadata": {},
   "outputs": [
    {
     "name": "stdout",
     "output_type": "stream",
     "text": [
      "[0.7 0.8] 3\n",
      "[0.5 0.6] 2\n",
      "[0.3 0.4] 1\n",
      "[0.9 1. ] 4\n",
      "[0.1 0.2] 0\n"
     ]
    }
   ],
   "source": [
    "display(ds)"
   ]
  },
  {
   "cell_type": "code",
   "execution_count": 11,
   "id": "a40486a4",
   "metadata": {},
   "outputs": [],
   "source": [
    "ds_batch = ds.batch(batch_size=2)"
   ]
  },
  {
   "cell_type": "code",
   "execution_count": 12,
   "id": "8e189ea2",
   "metadata": {},
   "outputs": [
    {
     "name": "stdout",
     "output_type": "stream",
     "text": [
      "[[0.1 0.2]\n",
      " [0.3 0.4]] [0 1]\n",
      "[[0.7 0.8]\n",
      " [0.5 0.6]] [3 2]\n",
      "[[0.9 1. ]] [4]\n"
     ]
    }
   ],
   "source": [
    "display(ds_batch)"
   ]
  },
  {
   "cell_type": "code",
   "execution_count": 13,
   "id": "4915cfb5",
   "metadata": {},
   "outputs": [],
   "source": [
    "import tensorflow_datasets as tfds"
   ]
  },
  {
   "cell_type": "code",
   "execution_count": 14,
   "id": "449f7d26",
   "metadata": {},
   "outputs": [],
   "source": [
    "iris = tfds.load('iris')"
   ]
  },
  {
   "cell_type": "code",
   "execution_count": 15,
   "id": "48732959",
   "metadata": {},
   "outputs": [
    {
     "data": {
      "text/plain": [
       "dict"
      ]
     },
     "execution_count": 15,
     "metadata": {},
     "output_type": "execute_result"
    }
   ],
   "source": [
    "type(iris)"
   ]
  },
  {
   "cell_type": "code",
   "execution_count": 16,
   "id": "9b1aebae",
   "metadata": {},
   "outputs": [
    {
     "data": {
      "text/plain": [
       "{'train': <PrefetchDataset shapes: {features: (4,), label: ()}, types: {features: tf.float32, label: tf.int64}>}"
      ]
     },
     "execution_count": 16,
     "metadata": {},
     "output_type": "execute_result"
    }
   ],
   "source": [
    "iris"
   ]
  },
  {
   "cell_type": "code",
   "execution_count": 17,
   "id": "e5393613",
   "metadata": {},
   "outputs": [],
   "source": [
    "ds = iris['train']"
   ]
  },
  {
   "cell_type": "code",
   "execution_count": 18,
   "id": "d9a54eee",
   "metadata": {},
   "outputs": [],
   "source": [
    "ds = ds.shuffle(buffer_size=150, reshuffle_each_iteration=False)"
   ]
  },
  {
   "cell_type": "code",
   "execution_count": 19,
   "id": "df5da2f4",
   "metadata": {},
   "outputs": [],
   "source": [
    "ds_train = ds.take(100)\n",
    "ds_test = ds.skip(100)"
   ]
  },
  {
   "cell_type": "code",
   "execution_count": 20,
   "id": "eefe2420",
   "metadata": {},
   "outputs": [],
   "source": [
    "ds_train = ds_train.map(lambda x: (x['features'], x['label']))\n",
    "ds_test = ds_test.map(lambda x: (x['features'], x['label']))"
   ]
  },
  {
   "cell_type": "code",
   "execution_count": 21,
   "id": "1ddf7256",
   "metadata": {},
   "outputs": [],
   "source": [
    "iris_mlp = tf.keras.Sequential([\n",
    "    tf.keras.layers.Dense(16, input_shape=(4,), activation='sigmoid'),\n",
    "    tf.keras.layers.Dense(3, activation='softmax')])\n",
    "iris_mlp.compile(optimizer='adam',\n",
    "                loss='sparse_categorical_crossentropy',\n",
    "                metrics=['accuracy'])"
   ]
  },
  {
   "cell_type": "code",
   "execution_count": 22,
   "id": "8b320a3a",
   "metadata": {
    "scrolled": true
   },
   "outputs": [
    {
     "name": "stdout",
     "output_type": "stream",
     "text": [
      "Epoch 1/50\n",
      "50/50 [==============================] - 0s 1ms/step - loss: 1.3815 - accuracy: 0.2900\n",
      "Epoch 2/50\n",
      "50/50 [==============================] - 0s 2ms/step - loss: 1.1313 - accuracy: 0.2900\n",
      "Epoch 3/50\n",
      "50/50 [==============================] - 0s 1ms/step - loss: 1.0549 - accuracy: 0.4300\n",
      "Epoch 4/50\n",
      "50/50 [==============================] - 0s 1ms/step - loss: 1.0202 - accuracy: 0.4200\n",
      "Epoch 5/50\n",
      "50/50 [==============================] - 0s 2ms/step - loss: 0.9911 - accuracy: 0.4100\n",
      "Epoch 6/50\n",
      "50/50 [==============================] - 0s 1ms/step - loss: 0.9647 - accuracy: 0.4400\n",
      "Epoch 7/50\n",
      "50/50 [==============================] - 0s 1ms/step - loss: 0.9379 - accuracy: 0.6300\n",
      "Epoch 8/50\n",
      "50/50 [==============================] - 0s 1ms/step - loss: 0.9130 - accuracy: 0.7000\n",
      "Epoch 9/50\n",
      "50/50 [==============================] - 0s 2ms/step - loss: 0.8891 - accuracy: 0.8200\n",
      "Epoch 10/50\n",
      "50/50 [==============================] - 0s 1ms/step - loss: 0.8623 - accuracy: 0.7100\n",
      "Epoch 11/50\n",
      "50/50 [==============================] - 0s 1ms/step - loss: 0.8343 - accuracy: 0.7100\n",
      "Epoch 12/50\n",
      "50/50 [==============================] - 0s 1ms/step - loss: 0.8097 - accuracy: 0.7300\n",
      "Epoch 13/50\n",
      "50/50 [==============================] - 0s 1ms/step - loss: 0.7828 - accuracy: 0.7100\n",
      "Epoch 14/50\n",
      "50/50 [==============================] - 0s 2ms/step - loss: 0.7557 - accuracy: 0.7100\n",
      "Epoch 15/50\n",
      "50/50 [==============================] - 0s 1ms/step - loss: 0.7328 - accuracy: 0.7200\n",
      "Epoch 16/50\n",
      "50/50 [==============================] - 0s 1ms/step - loss: 0.7086 - accuracy: 0.7300\n",
      "Epoch 17/50\n",
      "50/50 [==============================] - 0s 985us/step - loss: 0.6863 - accuracy: 0.7100\n",
      "Epoch 18/50\n",
      "50/50 [==============================] - 0s 1ms/step - loss: 0.6642 - accuracy: 0.7300\n",
      "Epoch 19/50\n",
      "50/50 [==============================] - 0s 2ms/step - loss: 0.6457 - accuracy: 0.7100\n",
      "Epoch 20/50\n",
      "50/50 [==============================] - 0s 1ms/step - loss: 0.6255 - accuracy: 0.7300\n",
      "Epoch 21/50\n",
      "50/50 [==============================] - 0s 1ms/step - loss: 0.6092 - accuracy: 0.7300\n",
      "Epoch 22/50\n",
      "50/50 [==============================] - 0s 972us/step - loss: 0.5905 - accuracy: 0.7500\n",
      "Epoch 23/50\n",
      "50/50 [==============================] - 0s 1ms/step - loss: 0.5759 - accuracy: 0.7200\n",
      "Epoch 24/50\n",
      "50/50 [==============================] - 0s 1ms/step - loss: 0.5613 - accuracy: 0.7500\n",
      "Epoch 25/50\n",
      "50/50 [==============================] - 0s 1ms/step - loss: 0.5503 - accuracy: 0.8300\n",
      "Epoch 26/50\n",
      "50/50 [==============================] - 0s 1ms/step - loss: 0.5362 - accuracy: 0.7800\n",
      "Epoch 27/50\n",
      "50/50 [==============================] - 0s 1ms/step - loss: 0.5241 - accuracy: 0.7800\n",
      "Epoch 28/50\n",
      "50/50 [==============================] - 0s 1ms/step - loss: 0.5150 - accuracy: 0.7800\n",
      "Epoch 29/50\n",
      "50/50 [==============================] - 0s 1ms/step - loss: 0.5019 - accuracy: 0.8100\n",
      "Epoch 30/50\n",
      "50/50 [==============================] - 0s 2ms/step - loss: 0.4936 - accuracy: 0.7900\n",
      "Epoch 31/50\n",
      "50/50 [==============================] - 0s 2ms/step - loss: 0.4826 - accuracy: 0.8700\n",
      "Epoch 32/50\n",
      "50/50 [==============================] - 0s 2ms/step - loss: 0.4726 - accuracy: 0.8300\n",
      "Epoch 33/50\n",
      "50/50 [==============================] - 0s 1ms/step - loss: 0.4649 - accuracy: 0.8300\n",
      "Epoch 34/50\n",
      "50/50 [==============================] - 0s 1ms/step - loss: 0.4538 - accuracy: 0.8700\n",
      "Epoch 35/50\n",
      "50/50 [==============================] - 0s 1ms/step - loss: 0.4458 - accuracy: 0.9400\n",
      "Epoch 36/50\n",
      "50/50 [==============================] - 0s 1ms/step - loss: 0.4374 - accuracy: 0.8400\n",
      "Epoch 37/50\n",
      "50/50 [==============================] - 0s 1ms/step - loss: 0.4317 - accuracy: 0.8900\n",
      "Epoch 38/50\n",
      "50/50 [==============================] - 0s 1ms/step - loss: 0.4206 - accuracy: 0.9400\n",
      "Epoch 39/50\n",
      "50/50 [==============================] - 0s 2ms/step - loss: 0.4144 - accuracy: 0.9100\n",
      "Epoch 40/50\n",
      "50/50 [==============================] - 0s 2ms/step - loss: 0.4061 - accuracy: 0.8900\n",
      "Epoch 41/50\n",
      "50/50 [==============================] - 0s 1ms/step - loss: 0.3968 - accuracy: 0.9200\n",
      "Epoch 42/50\n",
      "50/50 [==============================] - 0s 1ms/step - loss: 0.3907 - accuracy: 0.9200\n",
      "Epoch 43/50\n",
      "50/50 [==============================] - 0s 1ms/step - loss: 0.3837 - accuracy: 0.9600\n",
      "Epoch 44/50\n",
      "50/50 [==============================] - 0s 1ms/step - loss: 0.3741 - accuracy: 0.9400\n",
      "Epoch 45/50\n",
      "50/50 [==============================] - 0s 1ms/step - loss: 0.3680 - accuracy: 0.9300\n",
      "Epoch 46/50\n",
      "50/50 [==============================] - 0s 1ms/step - loss: 0.3622 - accuracy: 0.9300\n",
      "Epoch 47/50\n",
      "50/50 [==============================] - 0s 1ms/step - loss: 0.3536 - accuracy: 0.9700\n",
      "Epoch 48/50\n",
      "50/50 [==============================] - 0s 2ms/step - loss: 0.3470 - accuracy: 0.9500\n",
      "Epoch 49/50\n",
      "50/50 [==============================] - 0s 2ms/step - loss: 0.3410 - accuracy: 0.9700\n",
      "Epoch 50/50\n",
      "50/50 [==============================] - 0s 1ms/step - loss: 0.3356 - accuracy: 0.9600\n",
      "1/1 [==============================] - 0s 191ms/step - loss: 0.3562 - accuracy: 0.9000\n"
     ]
    },
    {
     "data": {
      "text/plain": [
       "[0.35624051094055176, 0.8999999761581421]"
      ]
     },
     "execution_count": 22,
     "metadata": {},
     "output_type": "execute_result"
    }
   ],
   "source": [
    "TRAIN_SIZE=100\n",
    "NUM_EPOCH = 50\n",
    "BATCH_SIZE = 2\n",
    "STEPS_PER_EPOCH = TRAIN_SIZE / BATCH_SIZE\n",
    "ds_train = ds_train.shuffle(TRAIN_SIZE).batch(BATCH_SIZE)\n",
    "history = iris_mlp.fit(ds_train, epochs=NUM_EPOCH, steps_per_epoch=STEPS_PER_EPOCH)\n",
    "iris_mlp.evaluate(ds_test.batch(50))"
   ]
  },
  {
   "cell_type": "code",
   "execution_count": null,
   "id": "355a6418",
   "metadata": {},
   "outputs": [],
   "source": []
  }
 ],
 "metadata": {
  "kernelspec": {
   "display_name": "Python 3",
   "language": "python",
   "name": "python3"
  },
  "language_info": {
   "codemirror_mode": {
    "name": "ipython",
    "version": 3
   },
   "file_extension": ".py",
   "mimetype": "text/x-python",
   "name": "python",
   "nbconvert_exporter": "python",
   "pygments_lexer": "ipython3",
   "version": "3.8.8"
  }
 },
 "nbformat": 4,
 "nbformat_minor": 5
}
